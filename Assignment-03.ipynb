{
 "cells": [
  {
   "cell_type": "markdown",
   "metadata": {},
   "source": [
    "## Assignment-03 First Step of Machine Learning: Model and Evaluation"
   ]
  },
  {
   "cell_type": "markdown",
   "metadata": {},
   "source": [
    "同学们，今天我们的学习了基本的机器学习概念，相比你已经对机器学习的这些方法有一个基本的认识了。值得说明的是，机器学习不仅仅是一系列方法，更重要的是一种思维体系，即：依据以往的、现有的数据，构建某种方法来解决未见过的问题。而且决策树，贝叶斯只是实现这个目标的一个方法，包括之后的神经网络。很有可能有一天，神经网络也会被淘汰，但是重要的是我们要理解机器学习的目标，就是尽可能的自动化解决未知的问题。"
   ]
  },
  {
   "cell_type": "markdown",
   "metadata": {},
   "source": [
    "![](https://timgsa.baidu.com/timg?image&quality=80&size=b9999_10000&sec=1571556399207&di=4a97dc15ad08dd49d3748d1edf6109b3&imgtype=0&src=http%3A%2F%2Fc.hiphotos.baidu.com%2Fzhidao%2Fwh%3D450%2C600%2Fsign%3Dae742c6aedcd7b89e93932873a146e91%2F5d6034a85edf8db1b16050c40223dd54574e74c7.jpg)"
   ]
  },
  {
   "cell_type": "markdown",
   "metadata": {},
   "source": [
    "## Part-1 Programming Review 编程回顾"
   ]
  },
  {
   "cell_type": "markdown",
   "metadata": {},
   "source": [
    "#### 1. Re-code the Linear-Regression Model using scikit-learning(10 points)"
   ]
  },
  {
   "cell_type": "markdown",
   "metadata": {},
   "source": [
    "<评阅点>： \n",
    "> + 是否完成线性回归模型 (4')\n",
    "+ 能够进行预测新数据(3')\n",
    "+ 能够进行可视化操作(3')"
   ]
  },
  {
   "cell_type": "code",
   "execution_count": 1,
   "metadata": {},
   "outputs": [],
   "source": [
    "import random\n",
    "import matplotlib.pyplot as plt\n",
    "from sklearn.linear_model import LinearRegression\n",
    "import numpy as np\n",
    "import pandas as pd"
   ]
  },
  {
   "cell_type": "code",
   "execution_count": 2,
   "metadata": {},
   "outputs": [
    {
     "data": {
      "text/plain": [
       "array([[0.11576998, 0.37269811],\n",
       "       [0.03061676, 0.81885658],\n",
       "       [0.52726211, 0.34343358],\n",
       "       [0.01598137, 0.10765268],\n",
       "       [0.87989479, 0.73981107],\n",
       "       [0.8036541 , 0.00731181],\n",
       "       [0.87818313, 0.88435821],\n",
       "       [0.14572385, 0.45295005],\n",
       "       [0.87676293, 0.58218889],\n",
       "       [0.70125363, 0.66577956],\n",
       "       [0.82716639, 0.03576304],\n",
       "       [0.45400566, 0.92474241],\n",
       "       [0.95336159, 0.46049033],\n",
       "       [0.26288975, 0.73889339],\n",
       "       [0.83569768, 0.10385047],\n",
       "       [0.07416102, 0.78180677],\n",
       "       [0.93642447, 0.56675701],\n",
       "       [0.27744611, 0.7576246 ],\n",
       "       [0.20463632, 0.29417   ],\n",
       "       [0.01944375, 0.54176593]])"
      ]
     },
     "execution_count": 2,
     "metadata": {},
     "output_type": "execute_result"
    }
   ],
   "source": [
    "random_data = np.random.random((20,2))\n",
    "random_data"
   ]
  },
  {
   "cell_type": "code",
   "execution_count": 3,
   "metadata": {},
   "outputs": [],
   "source": [
    "X = random_data[:,0]\n",
    "y = random_data[:,1]"
   ]
  },
  {
   "cell_type": "code",
   "execution_count": 4,
   "metadata": {},
   "outputs": [],
   "source": [
    "def assuming_function(x):\n",
    "    '''假设函数，生成一些样本'''\n",
    "    return 16.12*x + 6 + random.randint(-5,5)"
   ]
  },
  {
   "cell_type": "code",
   "execution_count": 5,
   "metadata": {},
   "outputs": [],
   "source": [
    "y = [assuming_function(x) for x in X]"
   ]
  },
  {
   "cell_type": "code",
   "execution_count": 6,
   "metadata": {},
   "outputs": [
    {
     "data": {
      "text/plain": [
       "<matplotlib.collections.PathCollection at 0xbe89978>"
      ]
     },
     "execution_count": 6,
     "metadata": {},
     "output_type": "execute_result"
    },
    {
     "data": {
      "image/png": "[encoded data removed]",
      "text/plain": [
       "<Figure size 432x288 with 1 Axes>"
      ]
     },
     "metadata": {
      "needs_background": "light"
     },
     "output_type": "display_data"
    }
   ],
   "source": [
    "plt.scatter(X,y)"
   ]
  },
  {
   "cell_type": "code",
   "execution_count": 7,
   "metadata": {},
   "outputs": [],
   "source": [
    "y = np.array(y)"
   ]
  },
  {
   "cell_type": "code",
   "execution_count": 8,
   "metadata": {},
   "outputs": [],
   "source": [
    "reg = LinearRegression().fit(X.reshape(-1,1),y)"
   ]
  },
  {
   "cell_type": "code",
   "execution_count": 9,
   "metadata": {},
   "outputs": [
    {
     "data": {
      "text/plain": [
       "0.742331633179674"
      ]
     },
     "execution_count": 9,
     "metadata": {},
     "output_type": "execute_result"
    }
   ],
   "source": [
    "reg.score(X.reshape(-1,1),y)"
   ]
  },
  {
   "cell_type": "code",
   "execution_count": 10,
   "metadata": {},
   "outputs": [
    {
     "data": {
      "text/plain": [
       "array([14.82007327])"
      ]
     },
     "execution_count": 10,
     "metadata": {},
     "output_type": "execute_result"
    }
   ],
   "source": [
    "reg.coef_  #系数"
   ]
  },
  {
   "cell_type": "code",
   "execution_count": 11,
   "metadata": {},
   "outputs": [
    {
     "data": {
      "text/plain": [
       "6.388285821599273"
      ]
     },
     "execution_count": 11,
     "metadata": {},
     "output_type": "execute_result"
    }
   ],
   "source": [
    "reg.intercept_   #常数"
   ]
  },
  {
   "cell_type": "code",
   "execution_count": 12,
   "metadata": {},
   "outputs": [],
   "source": [
    "def fit_model(x):\n",
    "    return reg.coef_*x + reg.intercept_"
   ]
  },
  {
   "cell_type": "code",
   "execution_count": 13,
   "metadata": {},
   "outputs": [
    {
     "data": {
      "text/plain": [
       "[<matplotlib.lines.Line2D at 0xbe89fd0>]"
      ]
     },
     "execution_count": 13,
     "metadata": {},
     "output_type": "execute_result"
    },
    {
     "data": {
      "image/png": "[encoded data removed]",
      "text/plain": [
       "<Figure size 432x288 with 1 Axes>"
      ]
     },
     "metadata": {
      "needs_background": "light"
     },
     "output_type": "display_data"
    }
   ],
   "source": [
    "plt.scatter(X,y)\n",
    "plt.plot(X,fit_model(X),color = 'red')"
   ]
  },
  {
   "cell_type": "markdown",
   "metadata": {},
   "source": [
    "#### 2. Complete the unfinished KNN Model using pure python to solve the previous Line-Regression problem. (8 points)"
   ]
  },
  {
   "cell_type": "markdown",
   "metadata": {},
   "source": [
    "<评阅点>:\n",
    "> + 是否完成了KNN模型 (4')\n",
    "+ 是否能够预测新的数据 (4')"
   ]
  },
  {
   "cell_type": "code",
   "execution_count": 14,
   "metadata": {},
   "outputs": [],
   "source": [
    "from scipy.spatial.distance import cosine \n",
    "import operator"
   ]
  },
  {
   "cell_type": "code",
   "execution_count": 15,
   "metadata": {},
   "outputs": [
    {
     "ename": "SyntaxError",
     "evalue": "invalid syntax (<ipython-input-15-a57b3161d922>, line 3)",
     "output_type": "error",
     "traceback": [
      "\u001b[1;36m  File \u001b[1;32m\"<ipython-input-15-a57b3161d922>\"\u001b[1;36m, line \u001b[1;32m3\u001b[0m\n\u001b[1;33m    '''直接存储值x  y即可'''\u001b[0m\n\u001b[1;37m                     \n^\u001b[0m\n\u001b[1;31mSyntaxError\u001b[0m\u001b[1;31m:\u001b[0m invalid syntax\n"
     ]
    }
   ],
   "source": [
    "'''\n",
    "def model(X,y):\n",
    "    '''直接存储值x  y即可'''\n",
    "    return [(Xi,yi) for Xi,yi in zip(X,y)]\n",
    "def distance(x1,x2):\n",
    "    return cosine(x1,x2)\n",
    "\n",
    "def vote(ys):\n",
    "    ys_unique = np.unique(ys)\n",
    "    vote_dict = {}\n",
    "    for y in ys:\n",
    "        if y not in vote_dict.keys():\n",
    "            vote_dict[y] = 1\n",
    "        else:\n",
    "            vote_dict[y]  += 1\n",
    "    sorted_vote_dict = sorted(vote_dict.items(),key = operator.itemgetter(1),reverse=False)\n",
    "    return sorted_vote_dict[0][0]\n",
    "'''"
   ]
  },
  {
   "cell_type": "code",
   "execution_count": null,
   "metadata": {},
   "outputs": [],
   "source": [
    "'''\n",
    "def predict(x,y,k = 5):\n",
    "    \"\"\"在predicate的时候，需要做大量的计算\"\"\"\n",
    "#     most_similars = sorted(model(X,y),key = lambda xi: distance(xi[0],x))[:k]\n",
    "    y_pred = []\n",
    "    for i in range(len(x)):\n",
    "        dist_arr = [distance(x[i],x[j]) for j in range(len(x))]\n",
    "        sorted_index = np.argsort(dist_arr)\n",
    "        top_k_index = sorted_index[:k]\n",
    "        y_pred.append(vote(y[top_k_index]))\n",
    "    return np.array(y_pred)\n",
    "\n",
    "\n",
    "def score(y_true=None,y_pred=None):\n",
    "    if y_true is None or y_pred is None:\n",
    "        y_pred = predict(x,y)\n",
    "        y_true = y\n",
    "    score = 0.0\n",
    "    for i in range(len(y_true)):\n",
    "        if y_true[i] == y_pred[i]:\n",
    "            score +=1\n",
    "    score /= len(y_true)\n",
    "    \n",
    "    return score\n",
    "    \n",
    "        \n",
    "        # -> regression:numerical  -> most_similars(y)\n",
    "    # ->classification:categorical -> most_similar(y)\n",
    "    # 简单应用中，一般使用欧氏距离\n",
    "    # 但对于文本分类来说，使用余弦(cosine)来计算相似度就比欧式(Euclidean)距离更合适\n",
    "'''"
   ]
  },
  {
   "cell_type": "code",
   "execution_count": null,
   "metadata": {},
   "outputs": [],
   "source": [
    "#第一种knn算法\n",
    "# 设置training_data\n",
    "'''\n",
    "data_size_1 = 300\n",
    "x1_1 = np.random.normal(loc = 5.0,scale = 1.0,size= data_size_1)\n",
    "x1_2 = np.random.normal(loc = 4.0,scale = 1.0,size= data_size_1)\n",
    "y_1 = [0 for _ in range(data_size_1)]\n",
    "# plt.scatter(x1_1,x1_2)\n",
    "\n",
    "data_size_2 = 400\n",
    "x2_1 = np.random.normal(loc = 10.0,scale = 2.0,size= data_size_2)\n",
    "x2_2 = np.random.normal(loc = 8.0,scale = 2.0,size= data_size_2) \n",
    "y_2 = [1 for _ in range(data_size_2)]\n",
    "\n",
    "x_1 = np.concatenate((x1_1,x2_1),axis = 0)\n",
    "x_2 = np.concatenate((x1_2,x2_2),axis = 0)\n",
    " \n",
    "x = np.hstack((x_1.reshape(-1,1),x_2.reshape(-1,1)))\n",
    "y  = np.concatenate((y_1,y_2),axis = 0)\n",
    "\n",
    "\n",
    "\n",
    "# data_size_all = data_size_1 + data_size_2\n",
    "# shuffled_index = np.random.permutation(data_size_all)\n",
    "# x = x[shuffled_index]\n",
    "# y = y[shuffled_index]\n",
    "\n",
    "\n",
    "# split_index = int(data_size_all*0.7)\n",
    "# x_train = x[:split_index]\n",
    "# y_train = y[:split_index]\n",
    "# x_test = x[split_index:]\n",
    "# y_test = y[split_index:]\n",
    "\n",
    "# plt.scatter(x_train[:,0],x_train[:,1],c = y_train)\n",
    "# plt.scatter(x_test[:,0],x_test[:,1],c = y_test)\n",
    "\n",
    "# data\n",
    "# plt.scatter(x[:,0],x[:,1],c= y)\n",
    "\n",
    "\n",
    "#data preprocessing  归一化\n",
    "# x_train  = (x_train - np.min(x_train,axis = 0)) / (np.max(x_train,axis = 0)-np.min(x_train,axis = 0))\n",
    "# x_test = (x_test - np.min(x_test,axis = 0)) / (np.max(x_test,axis = 0)-np.min(x_test,axis = 0))\n",
    "\n",
    "\n",
    "# #knn classifier\n",
    "# clf = KNN(k=3)\n",
    "# clf.fit(x_train,y_train)\n",
    "# score_train = clf.score()\n",
    "\n",
    "# print(\"training accuracy is {:.3}\".format(score_train))\n",
    "\n",
    "# y_test_pred = clf.predict(x_test)\n",
    "# print(\"test accuracy is {:.3}\".format(clf.score(y_test,y_test_pred)))\n",
    "# x_test1 = [[1,2],[3,4]]\n",
    "# clf.predict(x_test1)\n",
    "# print(x)\n",
    "# x[:,0]\n",
    "# clf = predict(x,y)\n",
    "'''"
   ]
  },
  {
   "cell_type": "code",
   "execution_count": null,
   "metadata": {},
   "outputs": [],
   "source": [
    "#第一种knn算法\n",
    "class KNN(object):\n",
    "    def __init__(self,k=5):\n",
    "        self.k = k\n",
    "        \n",
    "    def fit(self,x,y):\n",
    "        self.x = x\n",
    "        self.y = y\n",
    "    def _square_distance(self,x1,x2):\n",
    "        return np.sum(np.square(x1-x2))\n",
    "       \n",
    "    def _vote(self,ys):\n",
    "        ys_unique = np.unique(ys)\n",
    "        vote_dict = {}\n",
    "        for y in ys:\n",
    "            if y not in vote_dict.keys():\n",
    "                vote_dict[y] = 1\n",
    "            else:\n",
    "                vote_dict[y] += 1\n",
    "        sorted_vote_dict = sorted(vote_dict.items(),key = operator.itemgetter(1),reverse=False)\n",
    "        return sorted_vote_dict[0][0]\n",
    "    \n",
    "    \n",
    "    \n",
    "    def predict(self,x):\n",
    "        y_pred = []\n",
    "        for i in range(len(x)):\n",
    "            dist_arr = [self._square_distance(x[i],self.x[j]) for j in range(len(self.x))]\n",
    "            sorted_index = np.argsort(dist_arr)\n",
    "            top_k_index = sorted_index[:self.k]\n",
    "            y_pred.append(self._vote(ys = self.y[top_k_index]))\n",
    "            \n",
    "        return np.array(y_pred)\n",
    "    \n",
    "    def score(self,y_true=None,y_pred=None):\n",
    "        if y_true is None or y_pred is None:\n",
    "            y_pred = self.predict(self.x)\n",
    "            y_true = self.y\n",
    "        score = 0.0\n",
    "        for i in range(len(y_true)):\n",
    "            if y_true[i] == y_pred[i]:\n",
    "                score += 1\n",
    "        score /= len(y_true)\n",
    "        return score  \n"
   ]
  },
  {
   "cell_type": "code",
   "execution_count": null,
   "metadata": {
    "scrolled": false
   },
   "outputs": [],
   "source": [
    "# data_idex = np.random.permutation(700)  #打乱index的顺序\n",
    "# a =  [5,4,3,2,1]\n",
    "# a1 = np.argsort(a)\n",
    "# b = {1:\"b\",2:\"a\"}\n",
    "# sorted(b.items(),key = operator.itemgetter(1))[0][0]\n",
    "# a = [[1,2],[3,4]]\n",
    "# b = [[3,4],[5,6]]\n",
    "# a = np.array(a)\n",
    "# b = np.array(b)\n",
    "# a1 = np.sum(np.square(a-b))\n",
    "# # a1\n",
    "# a[0]\n",
    "# a  = [1,2,3,4]\n",
    "# a = np.array(a)\n",
    "# b =  [3,2,1,0]\n",
    "# # set(a)\n",
    "# a1 = a[b]  #只有数组可以用列表索引\n",
    "# a1\n",
    "\n",
    "\n",
    "# a = [[1,2],[3,4],[2,1]]\n",
    "# a = np.array(a)\n",
    "# np.min(a,axis =0)   #按列取最小    array([1, 1])\n",
    "# b =a - np.min(a,axis =0) \n",
    "# b     #array([[0, 1], [2, 3],[1, 0]])"
   ]
  },
  {
   "cell_type": "code",
   "execution_count": null,
   "metadata": {},
   "outputs": [],
   "source": [
    "#第二个knn算法\n",
    "'''\n",
    "data1 = [np.random.random() for _ in range(100)]\n",
    "data2 = [np.random.random()+ random.randint(0,1) for _ in range(100)]\n",
    "labels1 = [0 for _ in range(40)]\n",
    "labels2 = [1 for _ in range(60)]\n",
    "labels_all = labels1 + labels2\n",
    "shuffled_index = np.random.permutation(100)\n",
    "data1 = np.array(data1)\n",
    "data2 = np.array(data2)\n",
    "labels_all = np.array(labels_all)\n",
    "data1 = data1[shuffled_index]\n",
    "data2 = data2[shuffled_index]\n",
    "labels_all = labels_all[shuffled_index]"
   ]
  },
  {
   "cell_type": "code",
   "execution_count": null,
   "metadata": {
    "scrolled": true
   },
   "outputs": [],
   "source": [
    "# x = np.hstack(data1.reshape(-1,1),data2.reshape(-1,1),axis\n",
    "#x = np.concatenate((data1,data2),axis=0) \n",
    "x = np.hstack((data1.reshape(-1,1),data2.reshape(-1,1)))\n",
    "model_data = model(x,labels_all)\n",
    "# model_data[0][0][0]\n",
    "# y_pred1 = predict(x,x,labels_all)\n",
    "plt.scatter(x[:,0],x[:,1],c= labels_all)\n",
    "# print(\"training accuracy is {:.3}\".format(score(labels_all,y_pred1)))\n",
    "'''"
   ]
  },
  {
   "cell_type": "code",
   "execution_count": null,
   "metadata": {},
   "outputs": [],
   "source": [
    "#试验\n",
    "# x = np.array([1,2,3,4])\n",
    "# y = np.array([5,6,7,8])\n",
    "# x2 = np.array([11,2,4,5])\n",
    "# y2 = np.array([23,4,4,54])\n",
    "# z2 = np.concatenate((x2,y2))\n",
    "# z = np.concatenate((x,y),axis = 0)\n",
    "# z3= np.hstack((z.reshape(-1,1),z2.reshape(-1,1)))\n",
    "# distance(z3[0],z3[1])\n",
    "# z3[0]"
   ]
  },
  {
   "cell_type": "code",
   "execution_count": null,
   "metadata": {},
   "outputs": [],
   "source": [
    "#第二种knn算法\n",
    "'''\n",
    "def model(X,y):\n",
    "    '''直接存储值x  y即可'''\n",
    "    return [(Xi,yi) for Xi,yi in zip(X,y)]\n",
    "def distance(x1,x2):\n",
    "    return cosine(x1,x2)\n",
    "def vote_cls(ys):\n",
    "    dict_vote = {}\n",
    "    for y in ys:\n",
    "        if y not in dict_vote.keys():\n",
    "            dict_vote[y] = 1\n",
    "        else:\n",
    "            dict_vote[y] += 1\n",
    "    sorted_dic = sorted(dict_vote.items(),key=operator.itemgetter(1),reverse=False)\n",
    "    return sorted_dic[0][0]\n",
    "\n",
    "\n",
    "def predict(x_test,x_training,y_labels,k=3):\n",
    "    y_pred = []\n",
    "    for i in range(len(x_test)):\n",
    "        dist_attr = [distance(x_test[i],x_training[j]) for j in range(len(x_training))]\n",
    "        sorted_dist = np.argsort(dist_attr)\n",
    "        top_k_index = sorted_dist[:k]\n",
    "        y_pred.append(vote_cls(y_labels[top_k_index]))\n",
    "    return np.array(y_pred)\n",
    "\n",
    "def score(y_true,y_pred):\n",
    "    score =0.0\n",
    "    for i in range(len(y_true)):\n",
    "        if y_true[i] == y_pred[i]:\n",
    "            score +=1\n",
    "    score /= len(y_true)\n",
    "    return score\n",
    "'''"
   ]
  },
  {
   "cell_type": "markdown",
   "metadata": {},
   "source": [
    "#### 3. Re-code the Decision Tree, which could sort the features by salience. (12 points)"
   ]
  },
  {
   "cell_type": "markdown",
   "metadata": {},
   "source": [
    "<评阅点>\n",
    "> + 是否实现了信息熵 (1' )\n",
    "+ 是否实现了最优先特征点的选择(5')\n",
    "+ 是否实现了持续的特征选则(6')"
   ]
  },
  {
   "cell_type": "code",
   "execution_count": 16,
   "metadata": {},
   "outputs": [],
   "source": [
    "# you code here\n",
    "from collections import Counter\n",
    "import pandas as pd\n",
    "%matplotlib inline\n",
    "from icecream import ic\n",
    "import sys\n",
    "sys.setrecursionlimit(3000)"
   ]
  },
  {
   "cell_type": "markdown",
   "metadata": {},
   "source": [
    "$$ Entropy = -\\sum_i^n Pr(x_i) log(Pr(x_i))$$"
   ]
  },
  {
   "cell_type": "code",
   "execution_count": 18,
   "metadata": {},
   "outputs": [],
   "source": [
    "def entropy(element):\n",
    "    counter = Counter(element)\n",
    "    probs = [counter[c] / len(element) for c in set(element)]\n",
    "    #ic(probs)\n",
    "    return -sum([p*np.log2(p) for p in probs])"
   ]
  },
  {
   "cell_type": "code",
   "execution_count": 19,
   "metadata": {},
   "outputs": [
    {
     "data": {
      "text/plain": [
       "-0.0"
      ]
     },
     "execution_count": 19,
     "metadata": {},
     "output_type": "execute_result"
    }
   ],
   "source": [
    "entropy([1,1,1,1])"
   ]
  },
  {
   "cell_type": "code",
   "execution_count": null,
   "metadata": {},
   "outputs": [],
   "source": [
    "entropy(['a', 'a', 'b', 'b', 'c'])"
   ]
  },
  {
   "cell_type": "code",
   "execution_count": null,
   "metadata": {},
   "outputs": [],
   "source": [
    "entropy([1,2,3,4])"
   ]
  },
  {
   "cell_type": "code",
   "execution_count": null,
   "metadata": {},
   "outputs": [],
   "source": [
    "entropy([1,2,2,4])"
   ]
  },
  {
   "cell_type": "code",
   "execution_count": null,
   "metadata": {},
   "outputs": [],
   "source": [
    "entropy([1,1,3,4])"
   ]
  },
  {
   "cell_type": "code",
   "execution_count": 22,
   "metadata": {},
   "outputs": [],
   "source": [
    "data_relational = {\n",
    "    'gender':['F', 'F', 'F', 'F', 'M', 'M', 'M'],\n",
    "    'loacation': ['C', 'V', 'V', 'C', 'C', 'C', 'V'],\n",
    "    'family_number': [1, 1, 2, 1, 1, 1, 2],\n",
    "    'bought': [1, 1, 1, 0, 0, 0, 1],\n",
    "    'pet':[1, 1, 1, 0, 0, 0 ,1]\n",
    "}"
   ]
  },
  {
   "cell_type": "code",
   "execution_count": 24,
   "metadata": {},
   "outputs": [],
   "source": [
    "dataset = pd.DataFrame.from_dict(data_relational)\n",
    "# dataset[dataset[\"gender\"]==\"F\"][\"bought\"].tolist()"
   ]
  },
  {
   "cell_type": "code",
   "execution_count": 25,
   "metadata": {},
   "outputs": [
    {
     "name": "stdout",
     "output_type": "stream",
     "text": [
      "1.7295739585136225\n",
      "0.8112781244591328\n",
      "0.9709505944546686\n"
     ]
    },
    {
     "data": {
      "text/plain": [
       "-0.0"
      ]
     },
     "execution_count": 25,
     "metadata": {},
     "output_type": "execute_result"
    }
   ],
   "source": [
    "# split_by_gender:\n",
    "print(entropy([1,1,1,0]) +entropy([0,0,1]))\n",
    "\n",
    "# split_by_location:\n",
    "print(entropy([1,0,0,0]) +entropy([1,1,1]))\n",
    "\n",
    "# split_by_family_number:\n",
    "print(entropy([1,1,0,0,0]) + entropy([1,1]))\n",
    "\n",
    "\n",
    "\n",
    "# split_by_pet:\n",
    "entropy([1,1,1,1]) + entropy([0, 0, 0, 0])"
   ]
  },
  {
   "cell_type": "code",
   "execution_count": 26,
   "metadata": {},
   "outputs": [],
   "source": [
    "def find_optimal_spilter(training_data:pd.DataFrame,target:str)->str:\n",
    "    x_field = set(training_data.columns.tolist()) - {target}\n",
    "    spliter = None\n",
    "    min_entropy = float(\"inf\")\n",
    "    for f in x_field:\n",
    "        ic(f)\n",
    "        values = set(training_data[f])\n",
    "        \n",
    "        for v in values:\n",
    "            sub_split_1 = training_data[training_data[f]==v][target].tolist()\n",
    "#             ic(sub_split_1)\n",
    "            entropy_1 = entropy(sub_split_1)\n",
    "            ic(entropy_1)\n",
    "    \n",
    "    \n",
    "\n",
    "            sub_split_2 = training_data[training_data[f]!=v][target].tolist()\n",
    "#             ic(sub_split_2)\n",
    "            entropy_2 =  entropy(sub_split_2)\n",
    "            ic(entropy_2)\n",
    "\n",
    "    \n",
    "            entropy_all = entropy_1 + entropy_2\n",
    "            if  entropy_all < min_entropy and entropy_1 <= entropy_2:\n",
    "                min_entropy = entropy_all\n",
    "                spliter = (f,v)\n",
    "            elif  entropy_1 > entropy_2:\n",
    "                continue\n",
    "            \n",
    "    print(\"min_entropy is {}\".format(min_entropy))\n",
    "    print(\"spliter is {}\".format(spliter))\n",
    "    return spliter"
   ]
  },
  {
   "cell_type": "code",
   "execution_count": null,
   "metadata": {},
   "outputs": [],
   "source": [
    "find_optimal_spilter(dataset,\"bought\")"
   ]
  },
  {
   "cell_type": "code",
   "execution_count": null,
   "metadata": {},
   "outputs": [],
   "source": [
    "find_optimal_spilter(dataset[dataset[\"pet\"]==0],\"bought\")"
   ]
  },
  {
   "cell_type": "code",
   "execution_count": null,
   "metadata": {},
   "outputs": [],
   "source": [
    "entropy(dataset[dataset[\"loacation\"]==\"C\"][\"bought\"].tolist())"
   ]
  },
  {
   "cell_type": "code",
   "execution_count": null,
   "metadata": {},
   "outputs": [],
   "source": [
    "entropy(dataset[dataset[\"loacation\"]==\"V\"][\"bought\"].tolist())"
   ]
  },
  {
   "cell_type": "code",
   "execution_count": null,
   "metadata": {},
   "outputs": [],
   "source": [
    "# dataset[dataset[\"loacation\"]==\"C\"\n",
    "find_optimal_spilter(dataset[dataset[\"loacation\"]==\"C\"],\"bought\")"
   ]
  },
  {
   "cell_type": "markdown",
   "metadata": {},
   "source": [
    "# 分割到这个层次，无法分割"
   ]
  },
  {
   "cell_type": "markdown",
   "metadata": {},
   "source": [
    "**信息增益算法**\n",
    "\n",
    "输入：训练数据集D和特征A\n",
    "\n",
    "输出：特征A对训练数据集D的信息熵的增加$g(D, A)$\n",
    "\n",
    "1. 计算数据集D的熵$H(D)$\n",
    "\n",
    "$$H(D)=-\\sum_{k=1}^{K}\\frac{|C_k|}{|D|}\\log\\frac{|C_k|}{|D|}$$\n",
    "\n",
    "2. 计算特征A对数据集D的条件熵$H(D|A)$\n",
    "\n",
    "$$H(D|A)=\\sum_{i=1}^{n}\\frac{|D_i|}{|D|}H(D_i) = \\sum_{i=1}^{n}\\frac{|D_i|}{|D|}\\sum_{k=1}^{K}\\frac{|D_{ik}|}{|D_i|}\\log\\frac{|D_{ik}|}{|D_i|}$$\n",
    "\n",
    "3. 计算信息增益\n",
    "\n",
    "$$g(D,A) = H(D) - H(D|A)$$"
   ]
  },
  {
   "cell_type": "code",
   "execution_count": 28,
   "metadata": {},
   "outputs": [],
   "source": [
    "def infor_gain(data1:list,data2:list):\n",
    "    '''information gain'''\n",
    "    if len(data1) ==0  or len(data2) == 0:\n",
    "        return 0.0\n",
    "    \n",
    "    data_all = data1 + data2 \n",
    "    data_all_e = entropy(data_all)\n",
    "    data1_e = entropy(data1)\n",
    "    data2_e = entropy(data2)\n",
    "    n = len(data1) / len(data_all)\n",
    "    \n",
    "    return data_all_e - sum([data1_e*n ,data2_e * (1-n)])"
   ]
  },
  {
   "cell_type": "code",
   "execution_count": 30,
   "metadata": {},
   "outputs": [],
   "source": [
    "l =  [1,1,1,2,2,3,3,4,4,4,5]"
   ]
  },
  {
   "cell_type": "code",
   "execution_count": 31,
   "metadata": {
    "scrolled": true
   },
   "outputs": [
    {
     "data": {
      "text/plain": [
       "0.5949066182439395"
      ]
     },
     "execution_count": 31,
     "metadata": {},
     "output_type": "execute_result"
    }
   ],
   "source": [
    "infor_gain(l[:8],l[8:])"
   ]
  },
  {
   "cell_type": "code",
   "execution_count": 32,
   "metadata": {},
   "outputs": [],
   "source": [
    "mock_data = {\n",
    "    'gender':['F', 'F', 'F', 'F', 'M', 'M', 'M'],\n",
    "    'income': ['+10', '-10', '+10', '+10', '+10', '+10', '-10'],\n",
    "    'family_number': [1, 1, 2, 1, 1, 1, 2],\n",
    "    'bought': [1, 1, 1, 0, 0, 0, 1],\n",
    "}\n",
    "mock_Dataset = pd.DataFrame(mock_data)"
   ]
  },
  {
   "cell_type": "code",
   "execution_count": 33,
   "metadata": {},
   "outputs": [
    {
     "data": {
      "text/plain": [
       "'F'"
      ]
     },
     "execution_count": 33,
     "metadata": {},
     "output_type": "execute_result"
    }
   ],
   "source": [
    "mock_Dataset[\"gender\"][0]\n",
    "# mock_Dataset.empty"
   ]
  },
  {
   "cell_type": "markdown",
   "metadata": {},
   "source": [
    "**Build decision tree**"
   ]
  },
  {
   "cell_type": "code",
   "execution_count": 35,
   "metadata": {},
   "outputs": [],
   "source": [
    "class Node(object):\n",
    "    '''\n",
    "    Tree Node\n",
    "    '''\n",
    "    def __init__(self,feature = None,left = None,right = None,result = None,**kwargs):\n",
    "        self.feature = feature\n",
    "        self.left = left\n",
    "        self.right = right\n",
    "        self.result = result"
   ]
  },
  {
   "cell_type": "code",
   "execution_count": 37,
   "metadata": {},
   "outputs": [],
   "source": [
    "def data_divide(dataset,col,val):\n",
    "    if isinstance(val,(float,int)):\n",
    "        #numerical value\n",
    "        dataset_1 = dataset[dataset[col]<=val]\n",
    "        dataset_2 = dataset[dataset[col]>val]\n",
    "    else:\n",
    "        dataset_1 = dataset[dataset[col]==val]\n",
    "        dataset_2 = dataset[dataset[col]!=val]\n",
    "    return dataset_1,dataset_2"
   ]
  },
  {
   "cell_type": "code",
   "execution_count": 39,
   "metadata": {},
   "outputs": [
    {
     "data": {
      "text/plain": [
       "{1, 2, 3, 4, 5}"
      ]
     },
     "execution_count": 39,
     "metadata": {},
     "output_type": "execute_result"
    }
   ],
   "source": [
    "q = [2,1,4,5,3]\n",
    "set(q)"
   ]
  },
  {
   "cell_type": "code",
   "execution_count": 41,
   "metadata": {},
   "outputs": [],
   "source": [
    "dataset_1 , dataset_2 = data_divide(mock_Dataset,\"gender\",\"F\")"
   ]
  },
  {
   "cell_type": "code",
   "execution_count": 43,
   "metadata": {},
   "outputs": [],
   "source": [
    "def build_tree(dataset:pd.DataFrame,target,**kwargs):\n",
    "    \n",
    "    if dataset.empty: return None\n",
    "    best_gain = 0.0\n",
    "    split_data = ()\n",
    "    col = dataset.columns[:-1]\n",
    "    best_feature = ()\n",
    "    #chooose feature\n",
    "    for i,cols in enumerate(col):\n",
    "        for val in set(dataset[cols]):\n",
    "            dataset1, dataset2 = data_divide(dataset, cols, val)\n",
    "            \n",
    "            #gain_infromation\n",
    "            data_list1 = dataset1[target].tolist()\n",
    "            data_list2 = dataset2[target].tolist()\n",
    "            gain_infor_build = infor_gain(data_list1,data_list2)\n",
    "            if gain_infor_build > best_gain:\n",
    "                best_gain = gain_infor_build\n",
    "                best_feature = (i,val)\n",
    "                split_data = (dataset1,dataset2)\n",
    "                \n",
    "    if best_gain >0.0:\n",
    "        left_node = build_tree(split_data[0],target)\n",
    "        right_node = build_tree(split_data[1],target)\n",
    "        return Node(feature=best_feature,left=left_node,right=right_node,result=dataset[target].tolist())\n",
    "    else:\n",
    "        return Node(result = dataset[target].tolist())\n",
    "            \n",
    "    "
   ]
  },
  {
   "cell_type": "code",
   "execution_count": 44,
   "metadata": {},
   "outputs": [],
   "source": [
    "decision_tree = build_tree(mock_Dataset,\"bought\")"
   ]
  },
  {
   "cell_type": "code",
   "execution_count": 45,
   "metadata": {},
   "outputs": [],
   "source": [
    "import time\n",
    "to_str = lambda x:map(str,x)\n",
    "def tranverse_tree(tree):\n",
    "    if tree.feature:\n",
    "        print(\"tree.feature is {},result is {}\".format(\":\".join(to_str(tree.feature)),\",\".join(to_str(tree.result))))\n",
    "        time.sleep(2)\n",
    "    else:\n",
    "        print(\"leaf.node result is  {}\".format(\",\".join(to_str(tree.result))))\n",
    "    if tree.left:\n",
    "        tranverse_tree(tree.left)\n",
    "    if tree.right:\n",
    "        tranverse_tree(tree.right)"
   ]
  },
  {
   "cell_type": "code",
   "execution_count": 46,
   "metadata": {
    "scrolled": true
   },
   "outputs": [
    {
     "name": "stdout",
     "output_type": "stream",
     "text": [
      "tree.feature is 1:-10,result is 1,1,1,0,0,0,1\n",
      "leaf.node result is  1,1\n",
      "tree.feature is 0:M,result is 1,1,0,0,0\n",
      "leaf.node result is  0,0\n",
      "tree.feature is 2:1,result is 1,1,0\n",
      "leaf.node result is  1,0\n",
      "leaf.node result is  1\n"
     ]
    }
   ],
   "source": [
    "tranverse_tree(decision_tree)"
   ]
  },
  {
   "cell_type": "code",
   "execution_count": 47,
   "metadata": {
    "scrolled": false
   },
   "outputs": [],
   "source": [
    "#print(decision_tree.feature)\n",
    "# def p():\n",
    "#     return Node(feature=\"23\")\n",
    "# a1 = p()\n",
    "# a1.feature\n",
    "# a = (1,2)\n",
    "# b = \".\".join(to_str(a))\n",
    "# b"
   ]
  },
  {
   "cell_type": "code",
   "execution_count": 48,
   "metadata": {},
   "outputs": [],
   "source": [
    "#试验\n",
    "# a = [1,2]\n",
    "# b = np.tile(a,(4,1,1))  #括号里，对应的是，行重复4次，列重复1次，整体重复2次\n",
    "# b"
   ]
  },
  {
   "cell_type": "markdown",
   "metadata": {},
   "source": [
    "#### 4. Finish the K-Means using 2-D matplotlib (8 points)"
   ]
  },
  {
   "cell_type": "markdown",
   "metadata": {},
   "source": [
    "<评阅点>\n",
    "> + 是否完成了KMeans模型，基于scikit-learning (3')\n",
    "+ 是否完成了可视化任务（5'）"
   ]
  },
  {
   "cell_type": "code",
   "execution_count": 49,
   "metadata": {},
   "outputs": [],
   "source": [
    "from sklearn.cluster import KMeans"
   ]
  },
  {
   "cell_type": "code",
   "execution_count": 50,
   "metadata": {},
   "outputs": [],
   "source": [
    "X1 = [np.random.randint(0,100) for _ in range(100)]\n",
    "X2 = [np.random.randint(0,100) for _ in range(100)]"
   ]
  },
  {
   "cell_type": "code",
   "execution_count": 51,
   "metadata": {},
   "outputs": [
    {
     "data": {
      "text/plain": [
       "<matplotlib.collections.PathCollection at 0xc4f41d0>"
      ]
     },
     "execution_count": 51,
     "metadata": {},
     "output_type": "execute_result"
    },
    {
     "data": {
      "image/png": "[encoded data removed]",
      "text/plain": [
       "<Figure size 432x288 with 1 Axes>"
      ]
     },
     "metadata": {
      "needs_background": "light"
     },
     "output_type": "display_data"
    }
   ],
   "source": [
    "plt.scatter(X1,X2)"
   ]
  },
  {
   "cell_type": "code",
   "execution_count": 52,
   "metadata": {},
   "outputs": [],
   "source": [
    "training_data = [(x1,x2) for x1,x2 in zip(X1,X2)]"
   ]
  },
  {
   "cell_type": "code",
   "execution_count": 53,
   "metadata": {},
   "outputs": [],
   "source": [
    "cluster = KMeans(n_clusters=6,max_iter=500)"
   ]
  },
  {
   "cell_type": "code",
   "execution_count": 54,
   "metadata": {},
   "outputs": [
    {
     "data": {
      "text/plain": [
       "KMeans(algorithm='auto', copy_x=True, init='k-means++', max_iter=500,\n",
       "    n_clusters=6, n_init=10, n_jobs=None, precompute_distances='auto',\n",
       "    random_state=None, tol=0.0001, verbose=0)"
      ]
     },
     "execution_count": 54,
     "metadata": {},
     "output_type": "execute_result"
    }
   ],
   "source": [
    "cluster.fit(training_data)"
   ]
  },
  {
   "cell_type": "code",
   "execution_count": 55,
   "metadata": {},
   "outputs": [
    {
     "data": {
      "text/plain": [
       "array([[49.95238095, 50.14285714],\n",
       "       [82.25      , 83.6875    ],\n",
       "       [89.1       , 23.1       ],\n",
       "       [22.26315789, 83.63157895],\n",
       "       [14.46666667, 29.2       ],\n",
       "       [48.        , 14.73684211]])"
      ]
     },
     "execution_count": 55,
     "metadata": {},
     "output_type": "execute_result"
    }
   ],
   "source": [
    "cluster.cluster_centers_"
   ]
  },
  {
   "cell_type": "code",
   "execution_count": 56,
   "metadata": {},
   "outputs": [
    {
     "data": {
      "text/plain": [
       "array([0, 2, 4, 0, 4, 0, 3, 3, 0, 5, 1, 1, 2, 2, 1, 0, 0, 5, 5, 5, 5, 5,\n",
       "       5, 0, 3, 1, 1, 5, 4, 1, 3, 2, 3, 4, 0, 4, 0, 1, 4, 5, 3, 4, 2, 3,\n",
       "       1, 3, 0, 1, 3, 0, 3, 1, 3, 0, 0, 1, 3, 0, 1, 5, 5, 3, 4, 3, 2, 1,\n",
       "       3, 4, 5, 4, 1, 5, 0, 4, 3, 5, 0, 3, 0, 5, 0, 3, 3, 2, 4, 0, 5, 1,\n",
       "       5, 0, 2, 4, 0, 2, 1, 4, 5, 5, 2, 4])"
      ]
     },
     "execution_count": 56,
     "metadata": {},
     "output_type": "execute_result"
    }
   ],
   "source": [
    "cluster.labels_"
   ]
  },
  {
   "cell_type": "code",
   "execution_count": 57,
   "metadata": {},
   "outputs": [],
   "source": [
    "from collections import defaultdict"
   ]
  },
  {
   "cell_type": "code",
   "execution_count": 58,
   "metadata": {},
   "outputs": [],
   "source": [
    "center = defaultdict(list)\n",
    "for labels,location in zip(cluster.labels_,training_data):\n",
    "    center[labels].append(location)"
   ]
  },
  {
   "cell_type": "code",
   "execution_count": 59,
   "metadata": {},
   "outputs": [
    {
     "data": {
      "image/png": "[encoded data removed]",
      "text/plain": [
       "<Figure size 432x288 with 1 Axes>"
      ]
     },
     "metadata": {
      "needs_background": "light"
     },
     "output_type": "display_data"
    }
   ],
   "source": [
    "color = [\"black\",\"orange\",\"red\",\"yellow\",\"blue\",\"pink\"]\n",
    "for i,c in enumerate(center):\n",
    "    for j in center[i]:\n",
    "        plt.scatter(*j,c = color[i])\n",
    "        \n",
    "for e in cluster.cluster_centers_:\n",
    "    plt.scatter(*e,s =400)"
   ]
  },
  {
   "cell_type": "markdown",
   "metadata": {},
   "source": [
    "## Part-2 Question and Answer 问答"
   ]
  },
  {
   "cell_type": "markdown",
   "metadata": {},
   "source": [
    "#### 1. What's the *model*? why  all the models are wrong, but some are useful? (5 points) "
   ]
  },
  {
   "cell_type": "markdown",
   "metadata": {},
   "source": [
    "Ans:"
   ]
  },
  {
   "cell_type": "markdown",
   "metadata": {},
   "source": [
    "<评阅点>\n",
    "> 模型是一个表征数据特征的一种数学表达，由于样本的随机性，模型预测精度对样本的质量和数量依赖性较大，因此，模型总是在不断的优化中，没有一个模型是绝对正确的，只是达到工程应用的期望水平。"
   ]
  },
  {
   "cell_type": "markdown",
   "metadata": {},
   "source": [
    "#### 2. What's the underfitting and overfitting? List the reasons that could make model overfitting or underfitting. (10 points)"
   ]
  },
  {
   "cell_type": "markdown",
   "metadata": {},
   "source": [
    "Ans:"
   ]
  },
  {
   "cell_type": "markdown",
   "metadata": {},
   "source": [
    "<评阅点>\n",
    "> + 对过拟合和欠拟合的理解是否正确 (3')\n",
    "+ 对欠拟合产生的原因是否理解正确(2')\n",
    "+ 对过拟合产生的原因是否理解正确(5')\n",
    "过拟合的原因有四个：1、模型过于复杂   2、数据过少   3、数据分布不对   4、模型系数过大  这会导致模型遇到新数据，误差较大，适应性差。\n",
    "欠拟合的原因主要是模型过于简单，泛化能力差。可以减少模型中的正则化参数，增加多个特征属性，还可以添加多项式特征。"
   ]
  },
  {
   "cell_type": "markdown",
   "metadata": {},
   "source": [
    "#### 3. What's the precision, recall, AUC, F1, F2score. What are they mainly target on? (12')"
   ]
  },
  {
   "cell_type": "markdown",
   "metadata": {},
   "source": [
    "Ans:"
   ]
  },
  {
   "cell_type": "markdown",
   "metadata": {},
   "source": [
    "<评阅点>\n",
    "> + 对precision, recall, AUC, F1, F2 理解是否正确(6‘)\n",
    "+ 对precision, recall, AUC, F1, F2的使用侧重点是否理解正确 (6’)\n",
    "准确率acc：样本中类别预测正确的比例，模型类别预测的正确能力。\n",
    "\n",
    "\n",
    "精确率pr：被预测为正例的样本中，真实的正例所占的比例，精确率反映模型在正例上的预测能力，该指标的关注点在正例上，如果我们对正例的预测准确性很关注，那么精确率是一个不错的指标。\n",
    "\n",
    "\n",
    "召回率：真实的正例样本中，被预测为正例的样本所占的比例。召回率反映模型在正例正确预测上的覆盖率，例如在一些灾害检测的场景中，任何一次灾害的漏检都是难以接受的，此时召回率是很合适的指标。\n",
    "\n",
    "AUC(area under curve)是一个数值，从定义上可以直观的看到其表征的意思——曲线与坐标轴围成的面积。\n",
    "\n",
    "F1-score ：兼顾精准率与召回率的模型评价指标。当对精准率或者召回率没有特殊要求时，评价一个模型的优劣就需要同时考虑精准率与召回率，此时可以考虑使用F1-score。F1-score实际上是precision与recall的调和平均值。\n"
   ]
  },
  {
   "cell_type": "markdown",
   "metadata": {},
   "source": [
    "$$F2= 5 * \\frac{Precision * Recall}{4*Precision + Recall}$$"
   ]
  },
  {
   "cell_type": "markdown",
   "metadata": {},
   "source": [
    "#### 4. Based on our course and yourself mind, what's the machine learning?  (8')"
   ]
  },
  {
   "cell_type": "markdown",
   "metadata": {},
   "source": [
    "Ans:"
   ]
  },
  {
   "cell_type": "markdown",
   "metadata": {},
   "source": [
    "<评阅点> 开放式问题，是否能说出来机器学习这种思维方式和传统的分析式编程的区别（8'）\n",
    "机器学习是基于传统的分析式编程上。用大量的数据去训练某个数学模型，使得模型具有预测或者分类功能，而不需要手动去写分类功能，更加依赖于数据。"
   ]
  },
  {
   "cell_type": "markdown",
   "metadata": {},
   "source": [
    "#### 5. \"正确定义了机器学习模型的评价标准(evaluation)， 问题基本上就已经解决一半\". 这句话是否正确？你是怎么看待的？ (8‘)"
   ]
  },
  {
   "cell_type": "markdown",
   "metadata": {},
   "source": [
    "<评阅点> 开放式问题，主要看能理解评价指标对机器学习模型的重要性.\n",
    "\n",
    "模型的好坏，可以用评价标准来衡量，然后评价标准要跟现实应用的背景相结合起来，定义一个较合适的评价标准，有助于人们对模型的好坏做出更精准的判断。"
   ]
  },
  {
   "cell_type": "markdown",
   "metadata": {},
   "source": [
    "## Part-03 Programming Practice 编程练习"
   ]
  },
  {
   "cell_type": "markdown",
   "metadata": {},
   "source": [
    "1. In our course and previous practice, we complete some importance components of Decision Tree. In this problem, you need to build a **completed** Decision Tree Model. You show finish a `predicate()` function, which accepts three parameters **<gender, income, family_number>**, and outputs the predicated 'bought': 1 or 0.  (20 points)"
   ]
  },
  {
   "cell_type": "code",
   "execution_count": 60,
   "metadata": {},
   "outputs": [],
   "source": [
    "# you code here\n",
    "mock_data = {\n",
    "    'gender':['F', 'F', 'F', 'F', 'M', 'M', 'M'],\n",
    "    'income': ['+10', '-10', '+10', '+10', '+10', '+10', '-10'],\n",
    "    'family_number': [1, 1, 2, 1, 1, 1, 2],\n",
    "    'bought': [1, 1, 1, 0, 0, 0, 1],\n",
    "}"
   ]
  },
  {
   "cell_type": "code",
   "execution_count": 61,
   "metadata": {},
   "outputs": [],
   "source": [
    "mock_dataset = pd.DataFrame(mock_data)"
   ]
  },
  {
   "cell_type": "code",
   "execution_count": 62,
   "metadata": {},
   "outputs": [
    {
     "data": {
      "text/html": [
       "<div>\n",
       "<style scoped>\n",
       "    .dataframe tbody tr th:only-of-type {\n",
       "        vertical-align: middle;\n",
       "    }\n",
       "\n",
       "    .dataframe tbody tr th {\n",
       "        vertical-align: top;\n",
       "    }\n",
       "\n",
       "    .dataframe thead th {\n",
       "        text-align: right;\n",
       "    }\n",
       "</style>\n",
       "<table border=\"1\" class=\"dataframe\">\n",
       "  <thead>\n",
       "    <tr style=\"text-align: right;\">\n",
       "      <th></th>\n",
       "      <th>gender</th>\n",
       "      <th>income</th>\n",
       "      <th>family_number</th>\n",
       "      <th>bought</th>\n",
       "    </tr>\n",
       "  </thead>\n",
       "  <tbody>\n",
       "    <tr>\n",
       "      <th>0</th>\n",
       "      <td>F</td>\n",
       "      <td>+10</td>\n",
       "      <td>1</td>\n",
       "      <td>1</td>\n",
       "    </tr>\n",
       "    <tr>\n",
       "      <th>1</th>\n",
       "      <td>F</td>\n",
       "      <td>-10</td>\n",
       "      <td>1</td>\n",
       "      <td>1</td>\n",
       "    </tr>\n",
       "    <tr>\n",
       "      <th>2</th>\n",
       "      <td>F</td>\n",
       "      <td>+10</td>\n",
       "      <td>2</td>\n",
       "      <td>1</td>\n",
       "    </tr>\n",
       "    <tr>\n",
       "      <th>3</th>\n",
       "      <td>F</td>\n",
       "      <td>+10</td>\n",
       "      <td>1</td>\n",
       "      <td>0</td>\n",
       "    </tr>\n",
       "    <tr>\n",
       "      <th>4</th>\n",
       "      <td>M</td>\n",
       "      <td>+10</td>\n",
       "      <td>1</td>\n",
       "      <td>0</td>\n",
       "    </tr>\n",
       "  </tbody>\n",
       "</table>\n",
       "</div>"
      ],
      "text/plain": [
       "  gender income  family_number  bought\n",
       "0      F    +10              1       1\n",
       "1      F    -10              1       1\n",
       "2      F    +10              2       1\n",
       "3      F    +10              1       0\n",
       "4      M    +10              1       0"
      ]
     },
     "execution_count": 62,
     "metadata": {},
     "output_type": "execute_result"
    }
   ],
   "source": [
    "mock_dataset.head()"
   ]
  },
  {
   "cell_type": "code",
   "execution_count": 63,
   "metadata": {},
   "outputs": [],
   "source": [
    "def predict(tree,x):\n",
    "    \"预测\"\n",
    "    if tree.feature:\n",
    "        \n",
    "        num , val = tree.feature\n",
    "        if isinstance(x[num],(float,int)):\n",
    "            if x[num] <= val:\n",
    "                return predict(tree.left,x)\n",
    "            else:\n",
    "                return predict(tree.right,x)\n",
    "        else:\n",
    "            if x[num] == val:\n",
    "                return predict(tree.left,x)\n",
    "            else:\n",
    "                return predict(tree.right,x)\n",
    "    else:\n",
    "        counter = Counter(tree.result)\n",
    "        return counter.most_common()[0][0]"
   ]
  },
  {
   "cell_type": "code",
   "execution_count": 69,
   "metadata": {},
   "outputs": [
    {
     "data": {
      "text/plain": [
       "0"
      ]
     },
     "execution_count": 69,
     "metadata": {},
     "output_type": "execute_result"
    }
   ],
   "source": [
    "predict(decision_tree,['M',\"+10\",1])"
   ]
  },
  {
   "cell_type": "markdown",
   "metadata": {},
   "source": [
    "<评阅点>\n",
    "> + 是否将之前的决策树模型的部分进行合并组装， predicate函数能够顺利运行(8')\n",
    "+ 是够能够输入未曾见过的X变量，例如gender, income, family_number 分别是： <M, -10, 1>, 模型能够预测出结果 (12')"
   ]
  },
  {
   "cell_type": "markdown",
   "metadata": {},
   "source": [
    "2. 将上一节课(第二节课)的线性回归问题中的Loss函数改成\"绝对值\"，并且改变其偏导的求值方式，观察其结果的变化。(19 point)"
   ]
  },
  {
   "cell_type": "code",
   "execution_count": 70,
   "metadata": {},
   "outputs": [],
   "source": [
    "# you code here\n",
    "from sklearn.datasets import load_boston"
   ]
  },
  {
   "cell_type": "code",
   "execution_count": 72,
   "metadata": {},
   "outputs": [],
   "source": [
    "boston_load = load_boston()"
   ]
  },
  {
   "cell_type": "code",
   "execution_count": 82,
   "metadata": {},
   "outputs": [
    {
     "data": {
      "text/plain": [
       "array(['CRIM', 'ZN', 'INDUS', 'CHAS', 'NOX', 'RM', 'AGE', 'DIS', 'RAD',\n",
       "       'TAX', 'PTRATIO', 'B', 'LSTAT'], dtype='<U7')"
      ]
     },
     "execution_count": 82,
     "metadata": {},
     "output_type": "execute_result"
    }
   ],
   "source": [
    "boston_load.feature_names"
   ]
  },
  {
   "cell_type": "code",
   "execution_count": 89,
   "metadata": {},
   "outputs": [],
   "source": [
    "boston_df = pd.DataFrame(np.hstack([boston_load.data,boston_load.target.reshape(-1,1)]),\n",
    "                                   columns = list(boston_load.feature_names) + [\"PRICE\"])"
   ]
  },
  {
   "cell_type": "code",
   "execution_count": 91,
   "metadata": {},
   "outputs": [],
   "source": [
    "# boston_df"
   ]
  },
  {
   "cell_type": "code",
   "execution_count": 92,
   "metadata": {},
   "outputs": [
    {
     "data": {
      "text/plain": [
       "<matplotlib.collections.PathCollection at 0xed05da0>"
      ]
     },
     "execution_count": 92,
     "metadata": {},
     "output_type": "execute_result"
    },
    {
     "data": {
      "image/png": "[encoded data removed]",
      "text/plain": [
       "<Figure size 432x288 with 1 Axes>"
      ]
     },
     "metadata": {
      "needs_background": "light"
     },
     "output_type": "display_data"
    }
   ],
   "source": [
    "plt.scatter(boston_df[\"RM\"],boston_df[\"PRICE\"])"
   ]
  },
  {
   "cell_type": "code",
   "execution_count": 93,
   "metadata": {},
   "outputs": [],
   "source": [
    "#boston_load[\"DESCR\"]"
   ]
  },
  {
   "cell_type": "markdown",
   "metadata": {},
   "source": [
    "$$L = \\frac{1}{n}\\sum{|y_i - \\hat{y_i}|}$$"
   ]
  },
  {
   "cell_type": "markdown",
   "metadata": {},
   "source": [
    "$$ f(x)= w*x + b $$"
   ]
  },
  {
   "cell_type": "code",
   "execution_count": 94,
   "metadata": {},
   "outputs": [],
   "source": [
    "def price(x, w, b):\n",
    "    return w * x + b"
   ]
  },
  {
   "cell_type": "code",
   "execution_count": 95,
   "metadata": {},
   "outputs": [],
   "source": [
    "def loss_function(y,y_hat):\n",
    "    return sum([np.abs(y_i-y_hat_i) for y_i,y_hat_i in zip(list(y),list(y_hat))])/len(list(y))"
   ]
  },
  {
   "cell_type": "markdown",
   "metadata": {},
   "source": [
    "Optimize Function: Gradient Descent\n",
    "\n"
   ]
  },
  {
   "cell_type": "markdown",
   "metadata": {},
   "source": [
    "Gradient $\\frac{\\partial{L}}{\\partial{w}}$ $\\frac{\\partial{L}}{\\partial{b}}$"
   ]
  },
  {
   "cell_type": "markdown",
   "metadata": {},
   "source": [
    "$$\\frac{\\partial{L}}{\\partial{w}}=-\\frac{1}{n}\\sum{\\frac{(y_i - \\hat y_i)x_i}{|y_i - \\hat y_i|}}$$"
   ]
  },
  {
   "cell_type": "markdown",
   "metadata": {},
   "source": [
    "$$\\frac{\\partial{L}}{\\partial{b}}=-\\frac{1}{n}\\sum{\\frac{(y_i - \\hat y_i)}{|y_i - \\hat y_i|}}$$"
   ]
  },
  {
   "cell_type": "markdown",
   "metadata": {},
   "source": [
    "$$ \\frac{\\partial{loss}}{\\partial{k}} = -\\frac{1}{n}(\\sum_{y_i>\\hat{y_i}}{-x_i}+\\sum_{y_i<\\hat{y_i}}{x_i})$$\n",
    "$$ \\frac{\\partial{loss}}{\\partial{b}} = \\frac{1}{n}(\\sum_{y_i>\\hat{y_i}}{-1} + \\sum_{y_i<\\hat{y_i}}{1})$$"
   ]
  },
  {
   "cell_type": "code",
   "execution_count": 269,
   "metadata": {},
   "outputs": [],
   "source": [
    "#define partial derivatives\n",
    "def partial_derivatives_w(x,y,y_hat):\n",
    "    n = len(y)\n",
    "    gradient = 0\n",
    "    return -sum([(yi - yi_hat) * xi for xi, yi, yi_hat in zip(list(x),list(y), list(y_hat))])/ n\n",
    "\n",
    "def partial_derivatives_b(y,y_hat):\n",
    "    n = len(y)\n",
    "    gradient = 0\n",
    "    return -sum([(yi - yi_hat) for  yi, yi_hat in zip(list(y), list(y_hat))])/ n\n"
   ]
  },
  {
   "cell_type": "code",
   "execution_count": 322,
   "metadata": {},
   "outputs": [],
   "source": [
    "class LRmodel(object):\n",
    "    \n",
    "    def __init__(self,iter_num = 300,learning_rate = 1e-3):\n",
    "        self.w =  np.random.random()*200 - 100\n",
    "        self.b =  np.random.random()*200 - 100\n",
    "        self.iter_num = iter_num\n",
    "        self.learning_rate = learning_rate\n",
    "        self.losses = []\n",
    "    def train(self,x,y):\n",
    "        self.losses = []\n",
    "        w = self.w\n",
    "        b = self.b\n",
    "        for i in range(self.iter_num):\n",
    "            y_hat = [price(xi,w,b) for xi in x]\n",
    "            loss_y = loss_function(y,y_hat)\n",
    "            self.losses.append(loss_y)\n",
    "            print(\"Iteration: {}, the loss is {}, Parameters w is {} and b is {}\".format(\n",
    "                            i,loss_y,self.w,self.b))\n",
    "            w_gradient = partial_derivatives_w(x,y,y_hat)\n",
    "            b_gradient = partial_derivatives_b(y,y_hat)\n",
    "            \n",
    "            w = w - w_gradient*self.learning_rate\n",
    "            b = b - b_gradient*self.learning_rate\n",
    "        self.w = w\n",
    "        self.b = b\n",
    "    def predict_rl(self,x):\n",
    "        return [self.w *xi + self.b  for xi in x]"
   ]
  },
  {
   "cell_type": "code",
   "execution_count": 308,
   "metadata": {},
   "outputs": [],
   "source": [
    "X = boston_df[\"RM\"]\n",
    "Y = boston_df[\"PRICE\"]"
   ]
  },
  {
   "cell_type": "code",
   "execution_count": 309,
   "metadata": {},
   "outputs": [
    {
     "data": {
      "text/plain": [
       "(506,)"
      ]
     },
     "execution_count": 309,
     "metadata": {},
     "output_type": "execute_result"
    }
   ],
   "source": [
    "X.shape\n",
    "# np.arange(1,10,0.1)"
   ]
  },
  {
   "cell_type": "code",
   "execution_count": 323,
   "metadata": {},
   "outputs": [
    {
     "name": "stdout",
     "output_type": "stream",
     "text": [
      "Iteration: 0, the loss is 659.2597262450636, Parameters w is -92.03873599778993 and b is -58.29711470084995\n",
      "Iteration: 1, the loss is 632.2487559916102, Parameters w is -92.03873599778993 and b is -58.29711470084995\n",
      "Iteration: 2, the loss is 606.3446223514898, Parameters w is -92.03873599778993 and b is -58.29711470084995\n",
      "Iteration: 3, the loss is 581.5019701476583, Parameters w is -92.03873599778993 and b is -58.29711470084995\n",
      "Iteration: 4, the loss is 557.6773027358121, Parameters w is -92.03873599778993 and b is -58.29711470084995\n",
      "Iteration: 5, the loss is 534.8289058467286, Parameters w is -92.03873599778993 and b is -58.29711470084995\n",
      "Iteration: 6, the loss is 512.9167745493551, Parameters w is -92.03873599778993 and b is -58.29711470084995\n",
      "Iteration: 7, the loss is 491.9025432067383, Parameters w is -92.03873599778993 and b is -58.29711470084995\n",
      "Iteration: 8, the loss is 471.74941830217716, Parameters w is -92.03873599778993 and b is -58.29711470084995\n",
      "Iteration: 9, the loss is 452.4221140179803, Parameters w is -92.03873599778993 and b is -58.29711470084995\n",
      "Iteration: 10, the loss is 433.88679045402625, Parameters w is -92.03873599778993 and b is -58.29711470084995\n",
      "Iteration: 11, the loss is 416.1109943779686, Parameters w is -92.03873599778993 and b is -58.29711470084995\n",
      "Iteration: 12, the loss is 399.0636024033282, Parameters w is -92.03873599778993 and b is -58.29711470084995\n",
      "Iteration: 13, the loss is 382.7147664960033, Parameters w is -92.03873599778993 and b is -58.29711470084995\n",
      "Iteration: 14, the loss is 367.03586171376884, Parameters w is -92.03873599778993 and b is -58.29711470084995\n",
      "Iteration: 15, the loss is 351.9994360872732, Parameters w is -92.03873599778993 and b is -58.29711470084995\n",
      "Iteration: 16, the loss is 337.57916255477386, Parameters w is -92.03873599778993 and b is -58.29711470084995\n",
      "Iteration: 17, the loss is 323.7497928664635, Parameters w is -92.03873599778993 and b is -58.29711470084995\n",
      "Iteration: 18, the loss is 310.4871133776665, Parameters w is -92.03873599778993 and b is -58.29711470084995\n",
      "Iteration: 19, the loss is 297.76790265351127, Parameters w is -92.03873599778993 and b is -58.29711470084995\n",
      "Iteration: 20, the loss is 285.56989081085396, Parameters w is -92.03873599778993 and b is -58.29711470084995\n",
      "Iteration: 21, the loss is 273.8717205262541, Parameters w is -92.03873599778993 and b is -58.29711470084995\n",
      "Iteration: 22, the loss is 262.652909641743, Parameters w is -92.03873599778993 and b is -58.29711470084995\n",
      "Iteration: 23, the loss is 251.89381530290333, Parameters w is -92.03873599778993 and b is -58.29711470084995\n",
      "Iteration: 24, the loss is 241.57559956647557, Parameters w is -92.03873599778993 and b is -58.29711470084995\n",
      "Iteration: 25, the loss is 231.68019641727096, Parameters w is -92.03873599778993 and b is -58.29711470084995\n",
      "Iteration: 26, the loss is 222.19028013664308, Parameters w is -92.03873599778993 and b is -58.29711470084995\n",
      "Iteration: 27, the loss is 213.0892349671328, Parameters w is -92.03873599778993 and b is -58.29711470084995\n",
      "Iteration: 28, the loss is 204.36112602017613, Parameters w is -92.03873599778993 and b is -58.29711470084995\n",
      "Iteration: 29, the loss is 195.99067137593352, Parameters w is -92.03873599778993 and b is -58.29711470084995\n",
      "Iteration: 30, the loss is 187.96321532639408, Parameters w is -92.03873599778993 and b is -58.29711470084995\n",
      "Iteration: 31, the loss is 180.2647027149056, Parameters w is -92.03873599778993 and b is -58.29711470084995\n",
      "Iteration: 32, the loss is 172.88165432720064, Parameters w is -92.03873599778993 and b is -58.29711470084995\n",
      "Iteration: 33, the loss is 165.80114329083133, Parameters w is -92.03873599778993 and b is -58.29711470084995\n",
      "Iteration: 34, the loss is 159.01077244169332, Parameters w is -92.03873599778993 and b is -58.29711470084995\n",
      "Iteration: 35, the loss is 152.4986526180068, Parameters w is -92.03873599778993 and b is -58.29711470084995\n",
      "Iteration: 36, the loss is 146.25338184375255, Parameters w is -92.03873599778993 and b is -58.29711470084995\n",
      "Iteration: 37, the loss is 140.26402536511574, Parameters w is -92.03873599778993 and b is -58.29711470084995\n",
      "Iteration: 38, the loss is 134.5200965049777, Parameters w is -92.03873599778993 and b is -58.29711470084995\n",
      "Iteration: 39, the loss is 129.01153830194613, Parameters w is -92.03873599778993 and b is -58.29711470084995\n",
      "Iteration: 40, the loss is 123.72870590176211, Parameters w is -92.03873599778993 and b is -58.29711470084995\n",
      "Iteration: 41, the loss is 118.66234967026273, Parameters w is -92.03873599778993 and b is -58.29711470084995\n",
      "Iteration: 42, the loss is 113.80359899832784, Parameters w is -92.03873599778993 and b is -58.29711470084995\n",
      "Iteration: 43, the loss is 109.14394677045765, Parameters w is -92.03873599778993 and b is -58.29711470084995\n",
      "Iteration: 44, the loss is 104.67523446978439, Parameters w is -92.03873599778993 and b is -58.29711470084995\n",
      "Iteration: 45, the loss is 100.38963789344174, Parameters w is -92.03873599778993 and b is -58.29711470084995\n",
      "Iteration: 46, the loss is 96.27965345327891, Parameters w is -92.03873599778993 and b is -58.29711470084995\n",
      "Iteration: 47, the loss is 92.33808503793593, Parameters w is -92.03873599778993 and b is -58.29711470084995\n",
      "Iteration: 48, the loss is 88.5580314132732, Parameters w is -92.03873599778993 and b is -58.29711470084995\n",
      "Iteration: 49, the loss is 84.93287413909972, Parameters w is -92.03873599778993 and b is -58.29711470084995\n",
      "Iteration: 50, the loss is 81.45626598104074, Parameters w is -92.03873599778993 and b is -58.29711470084995\n",
      "Iteration: 51, the loss is 78.12211979725463, Parameters w is -92.03873599778993 and b is -58.29711470084995\n",
      "Iteration: 52, the loss is 74.92459788054282, Parameters w is -92.03873599778993 and b is -58.29711470084995\n",
      "Iteration: 53, the loss is 71.85810173719257, Parameters w is -92.03873599778993 and b is -58.29711470084995\n",
      "Iteration: 54, the loss is 68.91726228465198, Parameters w is -92.03873599778993 and b is -58.29711470084995\n",
      "Iteration: 55, the loss is 66.09693045088163, Parameters w is -92.03873599778993 and b is -58.29711470084995\n",
      "Iteration: 56, the loss is 63.392168158916576, Parameters w is -92.03873599778993 and b is -58.29711470084995\n",
      "Iteration: 57, the loss is 60.798239680858174, Parameters w is -92.03873599778993 and b is -58.29711470084995\n",
      "Iteration: 58, the loss is 58.310603346155006, Parameters w is -92.03873599778993 and b is -58.29711470084995\n",
      "Iteration: 59, the loss is 55.924903589656836, Parameters w is -92.03873599778993 and b is -58.29711470084995\n",
      "Iteration: 60, the loss is 53.63696332551787, Parameters w is -92.03873599778993 and b is -58.29711470084995\n",
      "Iteration: 61, the loss is 51.442776633595926, Parameters w is -92.03873599778993 and b is -58.29711470084995\n",
      "Iteration: 62, the loss is 49.33850174554431, Parameters w is -92.03873599778993 and b is -58.29711470084995\n",
      "Iteration: 63, the loss is 47.320454318314276, Parameters w is -92.03873599778993 and b is -58.29711470084995\n",
      "Iteration: 64, the loss is 45.385100983290975, Parameters w is -92.03873599778993 and b is -58.29711470084995\n",
      "Iteration: 65, the loss is 43.5290531597688, Parameters w is -92.03873599778993 and b is -58.29711470084995\n",
      "Iteration: 66, the loss is 41.749061121933764, Parameters w is -92.03873599778993 and b is -58.29711470084995\n",
      "Iteration: 67, the loss is 40.042008308964725, Parameters w is -92.03873599778993 and b is -58.29711470084995\n",
      "Iteration: 68, the loss is 38.40490586829096, Parameters w is -92.03873599778993 and b is -58.29711470084995\n",
      "Iteration: 69, the loss is 36.83488742245364, Parameters w is -92.03873599778993 and b is -58.29711470084995\n",
      "Iteration: 70, the loss is 35.329204050405366, Parameters w is -92.03873599778993 and b is -58.29711470084995\n",
      "Iteration: 71, the loss is 33.885219474464286, Parameters w is -92.03873599778993 and b is -58.29711470084995\n",
      "Iteration: 72, the loss is 32.500405444492344, Parameters w is -92.03873599778993 and b is -58.29711470084995\n",
      "Iteration: 73, the loss is 31.172337311218342, Parameters w is -92.03873599778993 and b is -58.29711470084995\n",
      "Iteration: 74, the loss is 29.898689780954104, Parameters w is -92.03873599778993 and b is -58.29711470084995\n"
     ]
    },
    {
     "name": "stdout",
     "output_type": "stream",
     "text": [
      "Iteration: 75, the loss is 28.677232844270932, Parameters w is -92.03873599778993 and b is -58.29711470084995\n",
      "Iteration: 76, the loss is 27.505827871507513, Parameters w is -92.03873599778993 and b is -58.29711470084995\n",
      "Iteration: 77, the loss is 26.382423868273882, Parameters w is -92.03873599778993 and b is -58.29711470084995\n",
      "Iteration: 78, the loss is 25.30505388439467, Parameters w is -92.03873599778993 and b is -58.29711470084995\n",
      "Iteration: 79, the loss is 24.271831570003634, Parameters w is -92.03873599778993 and b is -58.29711470084995\n",
      "Iteration: 80, the loss is 23.28094787276089, Parameters w is -92.03873599778993 and b is -58.29711470084995\n",
      "Iteration: 81, the loss is 22.33066787040886, Parameters w is -92.03873599778993 and b is -58.29711470084995\n",
      "Iteration: 82, the loss is 21.419327733121285, Parameters w is -92.03873599778993 and b is -58.29711470084995\n",
      "Iteration: 83, the loss is 20.545331810327745, Parameters w is -92.03873599778993 and b is -58.29711470084995\n",
      "Iteration: 84, the loss is 19.707149836911324, Parameters w is -92.03873599778993 and b is -58.29711470084995\n",
      "Iteration: 85, the loss is 18.903749167584373, Parameters w is -92.03873599778993 and b is -58.29711470084995\n",
      "Iteration: 86, the loss is 18.13969341612039, Parameters w is -92.03873599778993 and b is -58.29711470084995\n",
      "Iteration: 87, the loss is 17.410754547636436, Parameters w is -92.03873599778993 and b is -58.29711470084995\n",
      "Iteration: 88, the loss is 16.71452226150441, Parameters w is -92.03873599778993 and b is -58.29711470084995\n",
      "Iteration: 89, the loss is 16.049032677325407, Parameters w is -92.03873599778993 and b is -58.29711470084995\n",
      "Iteration: 90, the loss is 15.41459451246213, Parameters w is -92.03873599778993 and b is -58.29711470084995\n",
      "Iteration: 91, the loss is 14.808613642341944, Parameters w is -92.03873599778993 and b is -58.29711470084995\n",
      "Iteration: 92, the loss is 14.229948853005315, Parameters w is -92.03873599778993 and b is -58.29711470084995\n",
      "Iteration: 93, the loss is 13.68005669271775, Parameters w is -92.03873599778993 and b is -58.29711470084995\n",
      "Iteration: 94, the loss is 13.158698602711503, Parameters w is -92.03873599778993 and b is -58.29711470084995\n",
      "Iteration: 95, the loss is 12.665253023144638, Parameters w is -92.03873599778993 and b is -58.29711470084995\n",
      "Iteration: 96, the loss is 12.197503829369612, Parameters w is -92.03873599778993 and b is -58.29711470084995\n",
      "Iteration: 97, the loss is 11.754050158841645, Parameters w is -92.03873599778993 and b is -58.29711470084995\n",
      "Iteration: 98, the loss is 11.334561798302794, Parameters w is -92.03873599778993 and b is -58.29711470084995\n",
      "Iteration: 99, the loss is 10.942235893156312, Parameters w is -92.03873599778993 and b is -58.29711470084995\n",
      "Iteration: 100, the loss is 10.573872327277293, Parameters w is -92.03873599778993 and b is -58.29711470084995\n",
      "Iteration: 101, the loss is 10.224683369746508, Parameters w is -92.03873599778993 and b is -58.29711470084995\n",
      "Iteration: 102, the loss is 9.89337923306115, Parameters w is -92.03873599778993 and b is -58.29711470084995\n",
      "Iteration: 103, the loss is 9.577734675317558, Parameters w is -92.03873599778993 and b is -58.29711470084995\n",
      "Iteration: 104, the loss is 9.276982893289441, Parameters w is -92.03873599778993 and b is -58.29711470084995\n",
      "Iteration: 105, the loss is 8.992640678658116, Parameters w is -92.03873599778993 and b is -58.29711470084995\n",
      "Iteration: 106, the loss is 8.725516007036838, Parameters w is -92.03873599778993 and b is -58.29711470084995\n",
      "Iteration: 107, the loss is 8.474576494133602, Parameters w is -92.03873599778993 and b is -58.29711470084995\n",
      "Iteration: 108, the loss is 8.240779455472715, Parameters w is -92.03873599778993 and b is -58.29711470084995\n",
      "Iteration: 109, the loss is 8.020122211596846, Parameters w is -92.03873599778993 and b is -58.29711470084995\n",
      "Iteration: 110, the loss is 7.813298998517516, Parameters w is -92.03873599778993 and b is -58.29711470084995\n",
      "Iteration: 111, the loss is 7.615942886012536, Parameters w is -92.03873599778993 and b is -58.29711470084995\n",
      "Iteration: 112, the loss is 7.428275934868583, Parameters w is -92.03873599778993 and b is -58.29711470084995\n",
      "Iteration: 113, the loss is 7.252787279497031, Parameters w is -92.03873599778993 and b is -58.29711470084995\n",
      "Iteration: 114, the loss is 7.088462974245587, Parameters w is -92.03873599778993 and b is -58.29711470084995\n",
      "Iteration: 115, the loss is 6.935130002723969, Parameters w is -92.03873599778993 and b is -58.29711470084995\n",
      "Iteration: 116, the loss is 6.789799621137526, Parameters w is -92.03873599778993 and b is -58.29711470084995\n",
      "Iteration: 117, the loss is 6.653463353563286, Parameters w is -92.03873599778993 and b is -58.29711470084995\n",
      "Iteration: 118, the loss is 6.5252507109630935, Parameters w is -92.03873599778993 and b is -58.29711470084995\n",
      "Iteration: 119, the loss is 6.403225840231638, Parameters w is -92.03873599778993 and b is -58.29711470084995\n",
      "Iteration: 120, the loss is 6.286990490597149, Parameters w is -92.03873599778993 and b is -58.29711470084995\n",
      "Iteration: 121, the loss is 6.176457946085656, Parameters w is -92.03873599778993 and b is -58.29711470084995\n",
      "Iteration: 122, the loss is 6.07083821744849, Parameters w is -92.03873599778993 and b is -58.29711470084995\n",
      "Iteration: 123, the loss is 5.9705370143438214, Parameters w is -92.03873599778993 and b is -58.29711470084995\n",
      "Iteration: 124, the loss is 5.876018162979355, Parameters w is -92.03873599778993 and b is -58.29711470084995\n",
      "Iteration: 125, the loss is 5.786690859899538, Parameters w is -92.03873599778993 and b is -58.29711470084995\n",
      "Iteration: 126, the loss is 5.701404295195239, Parameters w is -92.03873599778993 and b is -58.29711470084995\n",
      "Iteration: 127, the loss is 5.6229870444435885, Parameters w is -92.03873599778993 and b is -58.29711470084995\n",
      "Iteration: 128, the loss is 5.55045721241093, Parameters w is -92.03873599778993 and b is -58.29711470084995\n",
      "Iteration: 129, the loss is 5.482234695859505, Parameters w is -92.03873599778993 and b is -58.29711470084995\n",
      "Iteration: 130, the loss is 5.417122342161989, Parameters w is -92.03873599778993 and b is -58.29711470084995\n",
      "Iteration: 131, the loss is 5.354678088483349, Parameters w is -92.03873599778993 and b is -58.29711470084995\n",
      "Iteration: 132, the loss is 5.294792603286387, Parameters w is -92.03873599778993 and b is -58.29711470084995\n",
      "Iteration: 133, the loss is 5.23802328728145, Parameters w is -92.03873599778993 and b is -58.29711470084995\n",
      "Iteration: 134, the loss is 5.184348894888516, Parameters w is -92.03873599778993 and b is -58.29711470084995\n",
      "Iteration: 135, the loss is 5.1336723141879075, Parameters w is -92.03873599778993 and b is -58.29711470084995\n",
      "Iteration: 136, the loss is 5.0874387645911945, Parameters w is -92.03873599778993 and b is -58.29711470084995\n",
      "Iteration: 137, the loss is 5.044833715643283, Parameters w is -92.03873599778993 and b is -58.29711470084995\n",
      "Iteration: 138, the loss is 5.004705277568341, Parameters w is -92.03873599778993 and b is -58.29711470084995\n",
      "Iteration: 139, the loss is 4.96686974428282, Parameters w is -92.03873599778993 and b is -58.29711470084995\n",
      "Iteration: 140, the loss is 4.931577650880636, Parameters w is -92.03873599778993 and b is -58.29711470084995\n",
      "Iteration: 141, the loss is 4.898542001143249, Parameters w is -92.03873599778993 and b is -58.29711470084995\n",
      "Iteration: 142, the loss is 4.867601513036058, Parameters w is -92.03873599778993 and b is -58.29711470084995\n",
      "Iteration: 143, the loss is 4.838410196536188, Parameters w is -92.03873599778993 and b is -58.29711470084995\n",
      "Iteration: 144, the loss is 4.812545860672424, Parameters w is -92.03873599778993 and b is -58.29711470084995\n",
      "Iteration: 145, the loss is 4.788734459141672, Parameters w is -92.03873599778993 and b is -58.29711470084995\n",
      "Iteration: 146, the loss is 4.766425617870087, Parameters w is -92.03873599778993 and b is -58.29711470084995\n",
      "Iteration: 147, the loss is 4.745693325217995, Parameters w is -92.03873599778993 and b is -58.29711470084995\n",
      "Iteration: 148, the loss is 4.726705192240264, Parameters w is -92.03873599778993 and b is -58.29711470084995\n",
      "Iteration: 149, the loss is 4.709458089348157, Parameters w is -92.03873599778993 and b is -58.29711470084995\n",
      "Iteration: 150, the loss is 4.6931604337464625, Parameters w is -92.03873599778993 and b is -58.29711470084995\n",
      "Iteration: 151, the loss is 4.6776604525223355, Parameters w is -92.03873599778993 and b is -58.29711470084995\n",
      "Iteration: 152, the loss is 4.663069270875737, Parameters w is -92.03873599778993 and b is -58.29711470084995\n",
      "Iteration: 153, the loss is 4.649405191014919, Parameters w is -92.03873599778993 and b is -58.29711470084995\n",
      "Iteration: 154, the loss is 4.6366322414627295, Parameters w is -92.03873599778993 and b is -58.29711470084995\n",
      "Iteration: 155, the loss is 4.624608280015603, Parameters w is -92.03873599778993 and b is -58.29711470084995\n",
      "Iteration: 156, the loss is 4.61320420201717, Parameters w is -92.03873599778993 and b is -58.29711470084995\n",
      "Iteration: 157, the loss is 4.602642235070489, Parameters w is -92.03873599778993 and b is -58.29711470084995\n",
      "Iteration: 158, the loss is 4.592513036183541, Parameters w is -92.03873599778993 and b is -58.29711470084995\n",
      "Iteration: 159, the loss is 4.5830727424742985, Parameters w is -92.03873599778993 and b is -58.29711470084995\n",
      "Iteration: 160, the loss is 4.574160726821488, Parameters w is -92.03873599778993 and b is -58.29711470084995\n",
      "Iteration: 161, the loss is 4.565660716588566, Parameters w is -92.03873599778993 and b is -58.29711470084995\n",
      "Iteration: 162, the loss is 4.557820725213138, Parameters w is -92.03873599778993 and b is -58.29711470084995\n",
      "Iteration: 163, the loss is 4.550701447985818, Parameters w is -92.03873599778993 and b is -58.29711470084995\n",
      "Iteration: 164, the loss is 4.5441639020942155, Parameters w is -92.03873599778993 and b is -58.29711470084995\n",
      "Iteration: 165, the loss is 4.538053158568317, Parameters w is -92.03873599778993 and b is -58.29711470084995\n",
      "Iteration: 166, the loss is 4.532365990480238, Parameters w is -92.03873599778993 and b is -58.29711470084995\n",
      "Iteration: 167, the loss is 4.5270488581966415, Parameters w is -92.03873599778993 and b is -58.29711470084995\n",
      "Iteration: 168, the loss is 4.52209509094497, Parameters w is -92.03873599778993 and b is -58.29711470084995\n",
      "Iteration: 169, the loss is 4.517353535365217, Parameters w is -92.03873599778993 and b is -58.29711470084995\n",
      "Iteration: 170, the loss is 4.513035266340558, Parameters w is -92.03873599778993 and b is -58.29711470084995\n",
      "Iteration: 171, the loss is 4.5090024095902645, Parameters w is -92.03873599778993 and b is -58.29711470084995\n",
      "Iteration: 172, the loss is 4.505290851417302, Parameters w is -92.03873599778993 and b is -58.29711470084995\n"
     ]
    },
    {
     "name": "stdout",
     "output_type": "stream",
     "text": [
      "Iteration: 173, the loss is 4.501837658075716, Parameters w is -92.03873599778993 and b is -58.29711470084995\n",
      "Iteration: 174, the loss is 4.49864462806655, Parameters w is -92.03873599778993 and b is -58.29711470084995\n",
      "Iteration: 175, the loss is 4.495737293189804, Parameters w is -92.03873599778993 and b is -58.29711470084995\n",
      "Iteration: 176, the loss is 4.493028390121381, Parameters w is -92.03873599778993 and b is -58.29711470084995\n",
      "Iteration: 177, the loss is 4.490505741676532, Parameters w is -92.03873599778993 and b is -58.29711470084995\n",
      "Iteration: 178, the loss is 4.488137486212143, Parameters w is -92.03873599778993 and b is -58.29711470084995\n",
      "Iteration: 179, the loss is 4.48590307257013, Parameters w is -92.03873599778993 and b is -58.29711470084995\n",
      "Iteration: 180, the loss is 4.483853985550859, Parameters w is -92.03873599778993 and b is -58.29711470084995\n",
      "Iteration: 181, the loss is 4.481960244790495, Parameters w is -92.03873599778993 and b is -58.29711470084995\n",
      "Iteration: 182, the loss is 4.4803197255091405, Parameters w is -92.03873599778993 and b is -58.29711470084995\n",
      "Iteration: 183, the loss is 4.478763268409534, Parameters w is -92.03873599778993 and b is -58.29711470084995\n",
      "Iteration: 184, the loss is 4.477305698989817, Parameters w is -92.03873599778993 and b is -58.29711470084995\n",
      "Iteration: 185, the loss is 4.475918225544193, Parameters w is -92.03873599778993 and b is -58.29711470084995\n",
      "Iteration: 186, the loss is 4.474600355017522, Parameters w is -92.03873599778993 and b is -58.29711470084995\n",
      "Iteration: 187, the loss is 4.473384881970397, Parameters w is -92.03873599778993 and b is -58.29711470084995\n",
      "Iteration: 188, the loss is 4.472246517245651, Parameters w is -92.03873599778993 and b is -58.29711470084995\n",
      "Iteration: 189, the loss is 4.471154774615826, Parameters w is -92.03873599778993 and b is -58.29711470084995\n",
      "Iteration: 190, the loss is 4.470107743633613, Parameters w is -92.03873599778993 and b is -58.29711470084995\n",
      "Iteration: 191, the loss is 4.469103592136657, Parameters w is -92.03873599778993 and b is -58.29711470084995\n",
      "Iteration: 192, the loss is 4.468140563039694, Parameters w is -92.03873599778993 and b is -58.29711470084995\n",
      "Iteration: 193, the loss is 4.46721697125806, Parameters w is -92.03873599778993 and b is -58.29711470084995\n",
      "Iteration: 194, the loss is 4.466355687620772, Parameters w is -92.03873599778993 and b is -58.29711470084995\n",
      "Iteration: 195, the loss is 4.465540892423242, Parameters w is -92.03873599778993 and b is -58.29711470084995\n",
      "Iteration: 196, the loss is 4.464787113606086, Parameters w is -92.03873599778993 and b is -58.29711470084995\n",
      "Iteration: 197, the loss is 4.464064315467402, Parameters w is -92.03873599778993 and b is -58.29711470084995\n",
      "Iteration: 198, the loss is 4.4633965554575985, Parameters w is -92.03873599778993 and b is -58.29711470084995\n",
      "Iteration: 199, the loss is 4.4627561354131435, Parameters w is -92.03873599778993 and b is -58.29711470084995\n",
      "Iteration: 200, the loss is 4.462162873028767, Parameters w is -92.03873599778993 and b is -58.29711470084995\n",
      "Iteration: 201, the loss is 4.461622224828938, Parameters w is -92.03873599778993 and b is -58.29711470084995\n",
      "Iteration: 202, the loss is 4.461103708960545, Parameters w is -92.03873599778993 and b is -58.29711470084995\n",
      "Iteration: 203, the loss is 4.460606418500651, Parameters w is -92.03873599778993 and b is -58.29711470084995\n",
      "Iteration: 204, the loss is 4.460129483689549, Parameters w is -92.03873599778993 and b is -58.29711470084995\n",
      "Iteration: 205, the loss is 4.459684174285129, Parameters w is -92.03873599778993 and b is -58.29711470084995\n",
      "Iteration: 206, the loss is 4.459268474545833, Parameters w is -92.03873599778993 and b is -58.29711470084995\n",
      "Iteration: 207, the loss is 4.458886586801768, Parameters w is -92.03873599778993 and b is -58.29711470084995\n",
      "Iteration: 208, the loss is 4.458520325952107, Parameters w is -92.03873599778993 and b is -58.29711470084995\n",
      "Iteration: 209, the loss is 4.458169051649153, Parameters w is -92.03873599778993 and b is -58.29711470084995\n",
      "Iteration: 210, the loss is 4.457832149784936, Parameters w is -92.03873599778993 and b is -58.29711470084995\n",
      "Iteration: 211, the loss is 4.4575188983681135, Parameters w is -92.03873599778993 and b is -58.29711470084995\n",
      "Iteration: 212, the loss is 4.457229368964966, Parameters w is -92.03873599778993 and b is -58.29711470084995\n",
      "Iteration: 213, the loss is 4.456960987502413, Parameters w is -92.03873599778993 and b is -58.29711470084995\n",
      "Iteration: 214, the loss is 4.456703583292959, Parameters w is -92.03873599778993 and b is -58.29711470084995\n",
      "Iteration: 215, the loss is 4.4564567065186385, Parameters w is -92.03873599778993 and b is -58.29711470084995\n",
      "Iteration: 216, the loss is 4.456219925793825, Parameters w is -92.03873599778993 and b is -58.29711470084995\n",
      "Iteration: 217, the loss is 4.455992827409909, Parameters w is -92.03873599778993 and b is -58.29711470084995\n",
      "Iteration: 218, the loss is 4.455775014610914, Parameters w is -92.03873599778993 and b is -58.29711470084995\n",
      "Iteration: 219, the loss is 4.4555661068989, Parameters w is -92.03873599778993 and b is -58.29711470084995\n",
      "Iteration: 220, the loss is 4.455365739367668, Parameters w is -92.03873599778993 and b is -58.29711470084995\n",
      "Iteration: 221, the loss is 4.455173562063909, Parameters w is -92.03873599778993 and b is -58.29711470084995\n",
      "Iteration: 222, the loss is 4.454989239374448, Parameters w is -92.03873599778993 and b is -58.29711470084995\n",
      "Iteration: 223, the loss is 4.454812449438641, Parameters w is -92.03873599778993 and b is -58.29711470084995\n",
      "Iteration: 224, the loss is 4.454642883584805, Parameters w is -92.03873599778993 and b is -58.29711470084995\n",
      "Iteration: 225, the loss is 4.454480245789819, Parameters w is -92.03873599778993 and b is -58.29711470084995\n",
      "Iteration: 226, the loss is 4.45432425216076, Parameters w is -92.03873599778993 and b is -58.29711470084995\n",
      "Iteration: 227, the loss is 4.45417463043789, Parameters w is -92.03873599778993 and b is -58.29711470084995\n",
      "Iteration: 228, the loss is 4.454031119517944, Parameters w is -92.03873599778993 and b is -58.29711470084995\n",
      "Iteration: 229, the loss is 4.453893468996945, Parameters w is -92.03873599778993 and b is -58.29711470084995\n",
      "Iteration: 230, the loss is 4.453761438731811, Parameters w is -92.03873599778993 and b is -58.29711470084995\n",
      "Iteration: 231, the loss is 4.453638548040185, Parameters w is -92.03873599778993 and b is -58.29711470084995\n",
      "Iteration: 232, the loss is 4.453524417675516, Parameters w is -92.03873599778993 and b is -58.29711470084995\n",
      "Iteration: 233, the loss is 4.453414942652132, Parameters w is -92.03873599778993 and b is -58.29711470084995\n",
      "Iteration: 234, the loss is 4.453309932206978, Parameters w is -92.03873599778993 and b is -58.29711470084995\n",
      "Iteration: 235, the loss is 4.453209203393939, Parameters w is -92.03873599778993 and b is -58.29711470084995\n",
      "Iteration: 236, the loss is 4.4531125807635545, Parameters w is -92.03873599778993 and b is -58.29711470084995\n",
      "Iteration: 237, the loss is 4.4530198960557925, Parameters w is -92.03873599778993 and b is -58.29711470084995\n",
      "Iteration: 238, the loss is 4.452930987905475, Parameters w is -92.03873599778993 and b is -58.29711470084995\n",
      "Iteration: 239, the loss is 4.452845701559715, Parameters w is -92.03873599778993 and b is -58.29711470084995\n",
      "Iteration: 240, the loss is 4.452763888607015, Parameters w is -92.03873599778993 and b is -58.29711470084995\n",
      "Iteration: 241, the loss is 4.45268540671734, Parameters w is -92.03873599778993 and b is -58.29711470084995\n",
      "Iteration: 242, the loss is 4.452610119392985, Parameters w is -92.03873599778993 and b is -58.29711470084995\n",
      "Iteration: 243, the loss is 4.452537895729543, Parameters w is -92.03873599778993 and b is -58.29711470084995\n",
      "Iteration: 244, the loss is 4.452468610186714, Parameters w is -92.03873599778993 and b is -58.29711470084995\n",
      "Iteration: 245, the loss is 4.452402142368505, Parameters w is -92.03873599778993 and b is -58.29711470084995\n",
      "Iteration: 246, the loss is 4.452340073771191, Parameters w is -92.03873599778993 and b is -58.29711470084995\n",
      "Iteration: 247, the loss is 4.4522823527759705, Parameters w is -92.03873599778993 and b is -58.29711470084995\n",
      "Iteration: 248, the loss is 4.452226976563525, Parameters w is -92.03873599778993 and b is -58.29711470084995\n",
      "Iteration: 249, the loss is 4.452173849051247, Parameters w is -92.03873599778993 and b is -58.29711470084995\n",
      "Iteration: 250, the loss is 4.4521228780937285, Parameters w is -92.03873599778993 and b is -58.29711470084995\n",
      "Iteration: 251, the loss is 4.452073975321401, Parameters w is -92.03873599778993 and b is -58.29711470084995\n",
      "Iteration: 252, the loss is 4.452027055985867, Parameters w is -92.03873599778993 and b is -58.29711470084995\n",
      "Iteration: 253, the loss is 4.4519820388115035, Parameters w is -92.03873599778993 and b is -58.29711470084995\n",
      "Iteration: 254, the loss is 4.451938845853107, Parameters w is -92.03873599778993 and b is -58.29711470084995\n",
      "Iteration: 255, the loss is 4.451897402359488, Parameters w is -92.03873599778993 and b is -58.29711470084995\n",
      "Iteration: 256, the loss is 4.451857636642543, Parameters w is -92.03873599778993 and b is -58.29711470084995\n",
      "Iteration: 257, the loss is 4.45181947995176, Parameters w is -92.03873599778993 and b is -58.29711470084995\n",
      "Iteration: 258, the loss is 4.451782866353833, Parameters w is -92.03873599778993 and b is -58.29711470084995\n",
      "Iteration: 259, the loss is 4.45174773261723, Parameters w is -92.03873599778993 and b is -58.29711470084995\n",
      "Iteration: 260, the loss is 4.451714018101477, Parameters w is -92.03873599778993 and b is -58.29711470084995\n",
      "Iteration: 261, the loss is 4.451681664650969, Parameters w is -92.03873599778993 and b is -58.29711470084995\n",
      "Iteration: 262, the loss is 4.451650616493183, Parameters w is -92.03873599778993 and b is -58.29711470084995\n",
      "Iteration: 263, the loss is 4.451620820140997, Parameters w is -92.03873599778993 and b is -58.29711470084995\n",
      "Iteration: 264, the loss is 4.451592224299028, Parameters w is -92.03873599778993 and b is -58.29711470084995\n",
      "Iteration: 265, the loss is 4.45156477977386, Parameters w is -92.03873599778993 and b is -58.29711470084995\n",
      "Iteration: 266, the loss is 4.451538439387881, Parameters w is -92.03873599778993 and b is -58.29711470084995\n",
      "Iteration: 267, the loss is 4.451513157896698, Parameters w is -92.03873599778993 and b is -58.29711470084995\n",
      "Iteration: 268, the loss is 4.451488891909909, Parameters w is -92.03873599778993 and b is -58.29711470084995\n",
      "Iteration: 269, the loss is 4.45146559981512, Parameters w is -92.03873599778993 and b is -58.29711470084995\n",
      "Iteration: 270, the loss is 4.451443241705121, Parameters w is -92.03873599778993 and b is -58.29711470084995\n",
      "Iteration: 271, the loss is 4.451421779307971, Parameters w is -92.03873599778993 and b is -58.29711470084995\n",
      "Iteration: 272, the loss is 4.451401175920039, Parameters w is -92.03873599778993 and b is -58.29711470084995\n",
      "Iteration: 273, the loss is 4.451381396341674, Parameters w is -92.03873599778993 and b is -58.29711470084995\n"
     ]
    },
    {
     "name": "stdout",
     "output_type": "stream",
     "text": [
      "Iteration: 274, the loss is 4.451362406815642, Parameters w is -92.03873599778993 and b is -58.29711470084995\n",
      "Iteration: 275, the loss is 4.451344174967971, Parameters w is -92.03873599778993 and b is -58.29711470084995\n",
      "Iteration: 276, the loss is 4.451326669751292, Parameters w is -92.03873599778993 and b is -58.29711470084995\n",
      "Iteration: 277, the loss is 4.451309861390474, Parameters w is -92.03873599778993 and b is -58.29711470084995\n",
      "Iteration: 278, the loss is 4.451293721330493, Parameters w is -92.03873599778993 and b is -58.29711470084995\n",
      "Iteration: 279, the loss is 4.451278222186431, Parameters w is -92.03873599778993 and b is -58.29711470084995\n",
      "Iteration: 280, the loss is 4.451263337695523, Parameters w is -92.03873599778993 and b is -58.29711470084995\n",
      "Iteration: 281, the loss is 4.451249042671201, Parameters w is -92.03873599778993 and b is -58.29711470084995\n",
      "Iteration: 282, the loss is 4.451235312958948, Parameters w is -92.03873599778993 and b is -58.29711470084995\n",
      "Iteration: 283, the loss is 4.4512221253940565, Parameters w is -92.03873599778993 and b is -58.29711470084995\n",
      "Iteration: 284, the loss is 4.451209457761028, Parameters w is -92.03873599778993 and b is -58.29711470084995\n",
      "Iteration: 285, the loss is 4.4511972887547095, Parameters w is -92.03873599778993 and b is -58.29711470084995\n",
      "Iteration: 286, the loss is 4.451185597942973, Parameters w is -92.03873599778993 and b is -58.29711470084995\n",
      "Iteration: 287, the loss is 4.451174365730936, Parameters w is -92.03873599778993 and b is -58.29711470084995\n",
      "Iteration: 288, the loss is 4.451163573326671, Parameters w is -92.03873599778993 and b is -58.29711470084995\n",
      "Iteration: 289, the loss is 4.451153202708277, Parameters w is -92.03873599778993 and b is -58.29711470084995\n",
      "Iteration: 290, the loss is 4.451143236592369, Parameters w is -92.03873599778993 and b is -58.29711470084995\n",
      "Iteration: 291, the loss is 4.451133658403761, Parameters w is -92.03873599778993 and b is -58.29711470084995\n",
      "Iteration: 292, the loss is 4.4511244522464954, Parameters w is -92.03873599778993 and b is -58.29711470084995\n",
      "Iteration: 293, the loss is 4.451115602875973, Parameters w is -92.03873599778993 and b is -58.29711470084995\n",
      "Iteration: 294, the loss is 4.451107095672283, Parameters w is -92.03873599778993 and b is -58.29711470084995\n",
      "Iteration: 295, the loss is 4.451098916614589, Parameters w is -92.03873599778993 and b is -58.29711470084995\n",
      "Iteration: 296, the loss is 4.451091052256606, Parameters w is -92.03873599778993 and b is -58.29711470084995\n",
      "Iteration: 297, the loss is 4.451083489703049, Parameters w is -92.03873599778993 and b is -58.29711470084995\n",
      "Iteration: 298, the loss is 4.451076216587018, Parameters w is -92.03873599778993 and b is -58.29711470084995\n",
      "Iteration: 299, the loss is 4.451069221048388, Parameters w is -92.03873599778993 and b is -58.29711470084995\n"
     ]
    }
   ],
   "source": [
    "lr = LRmodel()\n",
    "lr.train(X,Y)"
   ]
  },
  {
   "cell_type": "code",
   "execution_count": 311,
   "metadata": {},
   "outputs": [],
   "source": [
    "# a = 1e-1\n",
    "# a"
   ]
  },
  {
   "cell_type": "code",
   "execution_count": 316,
   "metadata": {
    "scrolled": false
   },
   "outputs": [
    {
     "data": {
      "text/plain": [
       "[<matplotlib.lines.Line2D at 0x13e0c748>]"
      ]
     },
     "execution_count": 316,
     "metadata": {},
     "output_type": "execute_result"
    },
    {
     "data": {
      "image/png": "[encoded data removed]",
      "text/plain": [
       "<Figure size 432x288 with 1 Axes>"
      ]
     },
     "metadata": {
      "needs_background": "light"
     },
     "output_type": "display_data"
    }
   ],
   "source": [
    "plt.plot(np.arange(lr.iter_num),lr.losses)"
   ]
  },
  {
   "cell_type": "code",
   "execution_count": 320,
   "metadata": {
    "scrolled": true
   },
   "outputs": [
    {
     "data": {
      "text/plain": [
       "<matplotlib.collections.PathCollection at 0x13f775f8>"
      ]
     },
     "execution_count": 320,
     "metadata": {},
     "output_type": "execute_result"
    },
    {
     "data": {
      "image/png": "[encoded data removed]",
      "text/plain": [
       "<Figure size 432x288 with 1 Axes>"
      ]
     },
     "metadata": {
      "needs_background": "light"
     },
     "output_type": "display_data"
    }
   ],
   "source": [
    "y_predict = lr.predict_rl(X)\n",
    "y_predict = np.array(y_predict)\n",
    "X.shape,y_predict.shape\n",
    "plt.scatter(X,Y)\n",
    "plt.scatter(X,y_predict)"
   ]
  },
  {
   "cell_type": "code",
   "execution_count": 324,
   "metadata": {},
   "outputs": [
    {
     "data": {
      "text/plain": [
       "<matplotlib.collections.PathCollection at 0x13ffe0f0>"
      ]
     },
     "execution_count": 324,
     "metadata": {},
     "output_type": "execute_result"
    },
    {
     "data": {
      "image/png": "[encoded data removed]",
      "text/plain": [
       "<Figure size 432x288 with 1 Axes>"
      ]
     },
     "metadata": {
      "needs_background": "light"
     },
     "output_type": "display_data"
    }
   ],
   "source": [
    "y_predict = lr.predict_rl(X)\n",
    "y_predict = np.array(y_predict)\n",
    "X.shape,y_predict.shape\n",
    "plt.scatter(X,Y)\n",
    "plt.scatter(X,y_predict)"
   ]
  },
  {
   "cell_type": "code",
   "execution_count": null,
   "metadata": {},
   "outputs": [],
   "source": [
    "对比多次实验结果，预测结果区别很大，特别是迭代次数200的时候，\n",
    "预测曲线跟散点图差别很大。绝对值作为损失函数不是一个正确的选择。\n",
    "\n",
    "考虑这种波动现象是不是非凸函数导致的，这是一个局部最小值导致的？？？？？"
   ]
  },
  {
   "cell_type": "markdown",
   "metadata": {},
   "source": [
    "<评阅点>\n",
    "+ 是否将Loss改成了“绝对值”(3')\n",
    "+ 是否完成了偏导的重新定义(5')\n",
    "+ 新的模型Loss是否能够收敛 (11’)"
   ]
  },
  {
   "cell_type": "markdown",
   "metadata": {},
   "source": []
  }
 ],
 "metadata": {
  "kernelspec": {
   "display_name": "Python 3",
   "language": "python",
   "name": "python3"
  },
  "language_info": {
   "codemirror_mode": {
    "name": "ipython",
    "version": 3
   },
   "file_extension": ".py",
   "mimetype": "text/x-python",
   "name": "python",
   "nbconvert_exporter": "python",
   "pygments_lexer": "ipython3",
   "version": "3.7.3"
  }
 },
 "nbformat": 4,
 "nbformat_minor": 2
}
